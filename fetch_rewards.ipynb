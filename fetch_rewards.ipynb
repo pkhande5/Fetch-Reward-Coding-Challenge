{
 "cells": [
  {
   "cell_type": "markdown",
   "metadata": {
    "id": "m8_yCR8F-4qP"
   },
   "source": [
    "# Fetch Rewards Coding Exercise - Analytics Engineer"
   ]
  },
  {
   "cell_type": "markdown",
   "metadata": {
    "id": "x13PGr4f-9Ci"
   },
   "source": [
    "## First: Review Existing Unstructured Data and Diagram a New Structured Relational Data Model"
   ]
  },
  {
   "cell_type": "markdown",
   "metadata": {
    "id": "1ZCte_i8_c2g"
   },
   "source": [
    "The aim is to convert the unstructured JSON files into cleaned structured data which we can query. I will use pandas to process and clean the data."
   ]
  },
  {
   "cell_type": "code",
   "execution_count": 1,
   "metadata": {
    "id": "ahyaGSdPSfAk"
   },
   "outputs": [],
   "source": [
    "import gzip\n",
    "import shutil\n",
    "import os\n",
    "import pandas as pd\n",
    "from ast import literal_eval\n",
    "import json\n",
    "from datetime import datetime\n",
    "from sqlalchemy import create_engine\n"
   ]
  },
  {
   "cell_type": "markdown",
   "metadata": {
    "id": "xR686d7R_WPk"
   },
   "source": [
    "The first step is to read the zipped json files through python."
   ]
  },
  {
   "cell_type": "code",
   "execution_count": 2,
   "metadata": {
    "id": "rFc2YvGDSoCS"
   },
   "outputs": [],
   "source": [
    "for i in os.listdir():\n",
    "  if 'json' in i:\n",
    "    with gzip.open(i, 'rb') as f_in:\n",
    "          with open(i.replace('.gz',''), 'wb') as f_out:\n",
    "            shutil.copyfileobj(f_in, f_out)"
   ]
  },
  {
   "cell_type": "code",
   "execution_count": 3,
   "metadata": {
    "id": "-2fCDvhOTwtv"
   },
   "outputs": [],
   "source": [
    "receipts = pd.read_json('receipts.json',lines=True)\n",
    "brands = pd.read_json('brands.json',lines=True)\n",
    "users = pd.read_json('users.json',lines=True)"
   ]
  },
  {
   "cell_type": "markdown",
   "metadata": {
    "id": "raDFBvnFAlft"
   },
   "source": [
    "### Receipts table"
   ]
  },
  {
   "cell_type": "code",
   "execution_count": 4,
   "metadata": {
    "colab": {
     "base_uri": "https://localhost:8080/",
     "height": 333
    },
    "id": "_bT8wTe7UEbS",
    "outputId": "189e45d9-7c8e-48a7-f20a-30a5763a34a1"
   },
   "outputs": [
    {
     "data": {
      "text/html": [
       "<div>\n",
       "<style scoped>\n",
       "    .dataframe tbody tr th:only-of-type {\n",
       "        vertical-align: middle;\n",
       "    }\n",
       "\n",
       "    .dataframe tbody tr th {\n",
       "        vertical-align: top;\n",
       "    }\n",
       "\n",
       "    .dataframe thead th {\n",
       "        text-align: right;\n",
       "    }\n",
       "</style>\n",
       "<table border=\"1\" class=\"dataframe\">\n",
       "  <thead>\n",
       "    <tr style=\"text-align: right;\">\n",
       "      <th></th>\n",
       "      <th>_id</th>\n",
       "      <th>bonusPointsEarned</th>\n",
       "      <th>bonusPointsEarnedReason</th>\n",
       "      <th>createDate</th>\n",
       "      <th>dateScanned</th>\n",
       "      <th>finishedDate</th>\n",
       "      <th>modifyDate</th>\n",
       "      <th>pointsAwardedDate</th>\n",
       "      <th>pointsEarned</th>\n",
       "      <th>purchaseDate</th>\n",
       "      <th>purchasedItemCount</th>\n",
       "      <th>rewardsReceiptItemList</th>\n",
       "      <th>rewardsReceiptStatus</th>\n",
       "      <th>totalSpent</th>\n",
       "      <th>userId</th>\n",
       "    </tr>\n",
       "  </thead>\n",
       "  <tbody>\n",
       "    <tr>\n",
       "      <th>0</th>\n",
       "      <td>{'$oid': '5ff1e1eb0a720f0523000575'}</td>\n",
       "      <td>500.0</td>\n",
       "      <td>Receipt number 2 completed, bonus point schedu...</td>\n",
       "      <td>{'$date': 1609687531000}</td>\n",
       "      <td>{'$date': 1609687531000}</td>\n",
       "      <td>{'$date': 1609687531000}</td>\n",
       "      <td>{'$date': 1609687536000}</td>\n",
       "      <td>{'$date': 1609687531000}</td>\n",
       "      <td>500.0</td>\n",
       "      <td>{'$date': 1609632000000}</td>\n",
       "      <td>5.0</td>\n",
       "      <td>[{'barcode': '4011', 'description': 'ITEM NOT ...</td>\n",
       "      <td>FINISHED</td>\n",
       "      <td>26.0</td>\n",
       "      <td>5ff1e1eacfcf6c399c274ae6</td>\n",
       "    </tr>\n",
       "    <tr>\n",
       "      <th>1</th>\n",
       "      <td>{'$oid': '5ff1e1bb0a720f052300056b'}</td>\n",
       "      <td>150.0</td>\n",
       "      <td>Receipt number 5 completed, bonus point schedu...</td>\n",
       "      <td>{'$date': 1609687483000}</td>\n",
       "      <td>{'$date': 1609687483000}</td>\n",
       "      <td>{'$date': 1609687483000}</td>\n",
       "      <td>{'$date': 1609687488000}</td>\n",
       "      <td>{'$date': 1609687483000}</td>\n",
       "      <td>150.0</td>\n",
       "      <td>{'$date': 1609601083000}</td>\n",
       "      <td>2.0</td>\n",
       "      <td>[{'barcode': '4011', 'description': 'ITEM NOT ...</td>\n",
       "      <td>FINISHED</td>\n",
       "      <td>11.0</td>\n",
       "      <td>5ff1e194b6a9d73a3a9f1052</td>\n",
       "    </tr>\n",
       "    <tr>\n",
       "      <th>2</th>\n",
       "      <td>{'$oid': '5ff1e1f10a720f052300057a'}</td>\n",
       "      <td>5.0</td>\n",
       "      <td>All-receipts receipt bonus</td>\n",
       "      <td>{'$date': 1609687537000}</td>\n",
       "      <td>{'$date': 1609687537000}</td>\n",
       "      <td>NaN</td>\n",
       "      <td>{'$date': 1609687542000}</td>\n",
       "      <td>NaN</td>\n",
       "      <td>5.0</td>\n",
       "      <td>{'$date': 1609632000000}</td>\n",
       "      <td>1.0</td>\n",
       "      <td>[{'needsFetchReview': False, 'partnerItemId': ...</td>\n",
       "      <td>REJECTED</td>\n",
       "      <td>10.0</td>\n",
       "      <td>5ff1e1f1cfcf6c399c274b0b</td>\n",
       "    </tr>\n",
       "    <tr>\n",
       "      <th>3</th>\n",
       "      <td>{'$oid': '5ff1e1ee0a7214ada100056f'}</td>\n",
       "      <td>5.0</td>\n",
       "      <td>All-receipts receipt bonus</td>\n",
       "      <td>{'$date': 1609687534000}</td>\n",
       "      <td>{'$date': 1609687534000}</td>\n",
       "      <td>{'$date': 1609687534000}</td>\n",
       "      <td>{'$date': 1609687539000}</td>\n",
       "      <td>{'$date': 1609687534000}</td>\n",
       "      <td>5.0</td>\n",
       "      <td>{'$date': 1609632000000}</td>\n",
       "      <td>4.0</td>\n",
       "      <td>[{'barcode': '4011', 'description': 'ITEM NOT ...</td>\n",
       "      <td>FINISHED</td>\n",
       "      <td>28.0</td>\n",
       "      <td>5ff1e1eacfcf6c399c274ae6</td>\n",
       "    </tr>\n",
       "    <tr>\n",
       "      <th>4</th>\n",
       "      <td>{'$oid': '5ff1e1d20a7214ada1000561'}</td>\n",
       "      <td>5.0</td>\n",
       "      <td>All-receipts receipt bonus</td>\n",
       "      <td>{'$date': 1609687506000}</td>\n",
       "      <td>{'$date': 1609687506000}</td>\n",
       "      <td>{'$date': 1609687511000}</td>\n",
       "      <td>{'$date': 1609687511000}</td>\n",
       "      <td>{'$date': 1609687506000}</td>\n",
       "      <td>5.0</td>\n",
       "      <td>{'$date': 1609601106000}</td>\n",
       "      <td>2.0</td>\n",
       "      <td>[{'barcode': '4011', 'description': 'ITEM NOT ...</td>\n",
       "      <td>FINISHED</td>\n",
       "      <td>1.0</td>\n",
       "      <td>5ff1e194b6a9d73a3a9f1052</td>\n",
       "    </tr>\n",
       "  </tbody>\n",
       "</table>\n",
       "</div>"
      ],
      "text/plain": [
       "                                    _id  bonusPointsEarned  \\\n",
       "0  {'$oid': '5ff1e1eb0a720f0523000575'}              500.0   \n",
       "1  {'$oid': '5ff1e1bb0a720f052300056b'}              150.0   \n",
       "2  {'$oid': '5ff1e1f10a720f052300057a'}                5.0   \n",
       "3  {'$oid': '5ff1e1ee0a7214ada100056f'}                5.0   \n",
       "4  {'$oid': '5ff1e1d20a7214ada1000561'}                5.0   \n",
       "\n",
       "                             bonusPointsEarnedReason  \\\n",
       "0  Receipt number 2 completed, bonus point schedu...   \n",
       "1  Receipt number 5 completed, bonus point schedu...   \n",
       "2                         All-receipts receipt bonus   \n",
       "3                         All-receipts receipt bonus   \n",
       "4                         All-receipts receipt bonus   \n",
       "\n",
       "                 createDate               dateScanned  \\\n",
       "0  {'$date': 1609687531000}  {'$date': 1609687531000}   \n",
       "1  {'$date': 1609687483000}  {'$date': 1609687483000}   \n",
       "2  {'$date': 1609687537000}  {'$date': 1609687537000}   \n",
       "3  {'$date': 1609687534000}  {'$date': 1609687534000}   \n",
       "4  {'$date': 1609687506000}  {'$date': 1609687506000}   \n",
       "\n",
       "               finishedDate                modifyDate  \\\n",
       "0  {'$date': 1609687531000}  {'$date': 1609687536000}   \n",
       "1  {'$date': 1609687483000}  {'$date': 1609687488000}   \n",
       "2                       NaN  {'$date': 1609687542000}   \n",
       "3  {'$date': 1609687534000}  {'$date': 1609687539000}   \n",
       "4  {'$date': 1609687511000}  {'$date': 1609687511000}   \n",
       "\n",
       "          pointsAwardedDate  pointsEarned              purchaseDate  \\\n",
       "0  {'$date': 1609687531000}         500.0  {'$date': 1609632000000}   \n",
       "1  {'$date': 1609687483000}         150.0  {'$date': 1609601083000}   \n",
       "2                       NaN           5.0  {'$date': 1609632000000}   \n",
       "3  {'$date': 1609687534000}           5.0  {'$date': 1609632000000}   \n",
       "4  {'$date': 1609687506000}           5.0  {'$date': 1609601106000}   \n",
       "\n",
       "   purchasedItemCount                             rewardsReceiptItemList  \\\n",
       "0                 5.0  [{'barcode': '4011', 'description': 'ITEM NOT ...   \n",
       "1                 2.0  [{'barcode': '4011', 'description': 'ITEM NOT ...   \n",
       "2                 1.0  [{'needsFetchReview': False, 'partnerItemId': ...   \n",
       "3                 4.0  [{'barcode': '4011', 'description': 'ITEM NOT ...   \n",
       "4                 2.0  [{'barcode': '4011', 'description': 'ITEM NOT ...   \n",
       "\n",
       "  rewardsReceiptStatus  totalSpent                    userId  \n",
       "0             FINISHED        26.0  5ff1e1eacfcf6c399c274ae6  \n",
       "1             FINISHED        11.0  5ff1e194b6a9d73a3a9f1052  \n",
       "2             REJECTED        10.0  5ff1e1f1cfcf6c399c274b0b  \n",
       "3             FINISHED        28.0  5ff1e1eacfcf6c399c274ae6  \n",
       "4             FINISHED         1.0  5ff1e194b6a9d73a3a9f1052  "
      ]
     },
     "execution_count": 4,
     "metadata": {},
     "output_type": "execute_result"
    }
   ],
   "source": [
    "receipts.head()"
   ]
  },
  {
   "cell_type": "markdown",
   "metadata": {
    "id": "wFbBO-ri98vn"
   },
   "source": [
    "The next step is to explode the 'rewardsReceiptItemList' field as it contains lists of receipts(we do this using literal_eval function from the ast package). Then we need to split each dictionary and get the columns from it(we do this using the json_normalize function in pandas). Once we do this we join this data back to the receipts data frame."
   ]
  },
  {
   "cell_type": "code",
   "execution_count": 5,
   "metadata": {
    "id": "xCj1fClxtpvD"
   },
   "outputs": [],
   "source": [
    "receipts = receipts.explode('rewardsReceiptItemList')\n",
    "receipts.reset_index(inplace=True)"
   ]
  },
  {
   "cell_type": "code",
   "execution_count": 6,
   "metadata": {
    "id": "ioF-u0cQwGP_"
   },
   "outputs": [],
   "source": [
    "receipts = receipts.fillna({'rewardsReceiptItemList':'{}'})\n",
    "receipts['rewardsReceiptItemList'] = receipts['rewardsReceiptItemList'].apply(lambda x:str(x))\n",
    "receipts['rewardsReceiptItemList'] = receipts['rewardsReceiptItemList'].apply(literal_eval)"
   ]
  },
  {
   "cell_type": "code",
   "execution_count": 7,
   "metadata": {
    "id": "y9091blcun4M"
   },
   "outputs": [],
   "source": [
    "receipts_norm = pd.json_normalize(receipts['rewardsReceiptItemList'],errors='ignore',record_prefix='rewardsReceiptItemList')\\\n",
    ".add_prefix('rewardsReceiptItemList.')"
   ]
  },
  {
   "cell_type": "code",
   "execution_count": 8,
   "metadata": {
    "id": "v1hqqPPU1t9F"
   },
   "outputs": [],
   "source": [
    "receipts_final = pd.merge(receipts, receipts_norm, left_index=True, right_index=True, how='outer')"
   ]
  },
  {
   "cell_type": "code",
   "execution_count": 9,
   "metadata": {
    "colab": {
     "base_uri": "https://localhost:8080/",
     "height": 657
    },
    "id": "xzMZiK43343A",
    "outputId": "0f7f5f92-6e6e-4670-8086-dd53ef0d3439"
   },
   "outputs": [
    {
     "data": {
      "text/html": [
       "<div>\n",
       "<style scoped>\n",
       "    .dataframe tbody tr th:only-of-type {\n",
       "        vertical-align: middle;\n",
       "    }\n",
       "\n",
       "    .dataframe tbody tr th {\n",
       "        vertical-align: top;\n",
       "    }\n",
       "\n",
       "    .dataframe thead th {\n",
       "        text-align: right;\n",
       "    }\n",
       "</style>\n",
       "<table border=\"1\" class=\"dataframe\">\n",
       "  <thead>\n",
       "    <tr style=\"text-align: right;\">\n",
       "      <th></th>\n",
       "      <th>index</th>\n",
       "      <th>_id</th>\n",
       "      <th>bonusPointsEarned</th>\n",
       "      <th>bonusPointsEarnedReason</th>\n",
       "      <th>createDate</th>\n",
       "      <th>dateScanned</th>\n",
       "      <th>finishedDate</th>\n",
       "      <th>modifyDate</th>\n",
       "      <th>pointsAwardedDate</th>\n",
       "      <th>pointsEarned</th>\n",
       "      <th>...</th>\n",
       "      <th>rewardsReceiptItemList.itemNumber</th>\n",
       "      <th>rewardsReceiptItemList.originalMetaBriteQuantityPurchased</th>\n",
       "      <th>rewardsReceiptItemList.pointsEarned</th>\n",
       "      <th>rewardsReceiptItemList.targetPrice</th>\n",
       "      <th>rewardsReceiptItemList.competitiveProduct</th>\n",
       "      <th>rewardsReceiptItemList.originalFinalPrice</th>\n",
       "      <th>rewardsReceiptItemList.originalMetaBriteItemPrice</th>\n",
       "      <th>rewardsReceiptItemList.deleted</th>\n",
       "      <th>rewardsReceiptItemList.priceAfterCoupon</th>\n",
       "      <th>rewardsReceiptItemList.metabriteCampaignId</th>\n",
       "    </tr>\n",
       "  </thead>\n",
       "  <tbody>\n",
       "    <tr>\n",
       "      <th>0</th>\n",
       "      <td>0</td>\n",
       "      <td>{'$oid': '5ff1e1eb0a720f0523000575'}</td>\n",
       "      <td>500.0</td>\n",
       "      <td>Receipt number 2 completed, bonus point schedu...</td>\n",
       "      <td>{'$date': 1609687531000}</td>\n",
       "      <td>{'$date': 1609687531000}</td>\n",
       "      <td>{'$date': 1609687531000}</td>\n",
       "      <td>{'$date': 1609687536000}</td>\n",
       "      <td>{'$date': 1609687531000}</td>\n",
       "      <td>500.0</td>\n",
       "      <td>...</td>\n",
       "      <td>NaN</td>\n",
       "      <td>NaN</td>\n",
       "      <td>NaN</td>\n",
       "      <td>NaN</td>\n",
       "      <td>NaN</td>\n",
       "      <td>NaN</td>\n",
       "      <td>NaN</td>\n",
       "      <td>NaN</td>\n",
       "      <td>NaN</td>\n",
       "      <td>NaN</td>\n",
       "    </tr>\n",
       "    <tr>\n",
       "      <th>1</th>\n",
       "      <td>1</td>\n",
       "      <td>{'$oid': '5ff1e1bb0a720f052300056b'}</td>\n",
       "      <td>150.0</td>\n",
       "      <td>Receipt number 5 completed, bonus point schedu...</td>\n",
       "      <td>{'$date': 1609687483000}</td>\n",
       "      <td>{'$date': 1609687483000}</td>\n",
       "      <td>{'$date': 1609687483000}</td>\n",
       "      <td>{'$date': 1609687488000}</td>\n",
       "      <td>{'$date': 1609687483000}</td>\n",
       "      <td>150.0</td>\n",
       "      <td>...</td>\n",
       "      <td>NaN</td>\n",
       "      <td>NaN</td>\n",
       "      <td>NaN</td>\n",
       "      <td>NaN</td>\n",
       "      <td>NaN</td>\n",
       "      <td>NaN</td>\n",
       "      <td>NaN</td>\n",
       "      <td>NaN</td>\n",
       "      <td>NaN</td>\n",
       "      <td>NaN</td>\n",
       "    </tr>\n",
       "    <tr>\n",
       "      <th>2</th>\n",
       "      <td>1</td>\n",
       "      <td>{'$oid': '5ff1e1bb0a720f052300056b'}</td>\n",
       "      <td>150.0</td>\n",
       "      <td>Receipt number 5 completed, bonus point schedu...</td>\n",
       "      <td>{'$date': 1609687483000}</td>\n",
       "      <td>{'$date': 1609687483000}</td>\n",
       "      <td>{'$date': 1609687483000}</td>\n",
       "      <td>{'$date': 1609687488000}</td>\n",
       "      <td>{'$date': 1609687483000}</td>\n",
       "      <td>150.0</td>\n",
       "      <td>...</td>\n",
       "      <td>NaN</td>\n",
       "      <td>NaN</td>\n",
       "      <td>NaN</td>\n",
       "      <td>NaN</td>\n",
       "      <td>NaN</td>\n",
       "      <td>NaN</td>\n",
       "      <td>NaN</td>\n",
       "      <td>NaN</td>\n",
       "      <td>NaN</td>\n",
       "      <td>NaN</td>\n",
       "    </tr>\n",
       "    <tr>\n",
       "      <th>3</th>\n",
       "      <td>2</td>\n",
       "      <td>{'$oid': '5ff1e1f10a720f052300057a'}</td>\n",
       "      <td>5.0</td>\n",
       "      <td>All-receipts receipt bonus</td>\n",
       "      <td>{'$date': 1609687537000}</td>\n",
       "      <td>{'$date': 1609687537000}</td>\n",
       "      <td>NaN</td>\n",
       "      <td>{'$date': 1609687542000}</td>\n",
       "      <td>NaN</td>\n",
       "      <td>5.0</td>\n",
       "      <td>...</td>\n",
       "      <td>NaN</td>\n",
       "      <td>NaN</td>\n",
       "      <td>NaN</td>\n",
       "      <td>NaN</td>\n",
       "      <td>NaN</td>\n",
       "      <td>NaN</td>\n",
       "      <td>NaN</td>\n",
       "      <td>NaN</td>\n",
       "      <td>NaN</td>\n",
       "      <td>NaN</td>\n",
       "    </tr>\n",
       "    <tr>\n",
       "      <th>4</th>\n",
       "      <td>3</td>\n",
       "      <td>{'$oid': '5ff1e1ee0a7214ada100056f'}</td>\n",
       "      <td>5.0</td>\n",
       "      <td>All-receipts receipt bonus</td>\n",
       "      <td>{'$date': 1609687534000}</td>\n",
       "      <td>{'$date': 1609687534000}</td>\n",
       "      <td>{'$date': 1609687534000}</td>\n",
       "      <td>{'$date': 1609687539000}</td>\n",
       "      <td>{'$date': 1609687534000}</td>\n",
       "      <td>5.0</td>\n",
       "      <td>...</td>\n",
       "      <td>NaN</td>\n",
       "      <td>NaN</td>\n",
       "      <td>NaN</td>\n",
       "      <td>NaN</td>\n",
       "      <td>NaN</td>\n",
       "      <td>NaN</td>\n",
       "      <td>NaN</td>\n",
       "      <td>NaN</td>\n",
       "      <td>NaN</td>\n",
       "      <td>NaN</td>\n",
       "    </tr>\n",
       "    <tr>\n",
       "      <th>...</th>\n",
       "      <td>...</td>\n",
       "      <td>...</td>\n",
       "      <td>...</td>\n",
       "      <td>...</td>\n",
       "      <td>...</td>\n",
       "      <td>...</td>\n",
       "      <td>...</td>\n",
       "      <td>...</td>\n",
       "      <td>...</td>\n",
       "      <td>...</td>\n",
       "      <td>...</td>\n",
       "      <td>...</td>\n",
       "      <td>...</td>\n",
       "      <td>...</td>\n",
       "      <td>...</td>\n",
       "      <td>...</td>\n",
       "      <td>...</td>\n",
       "      <td>...</td>\n",
       "      <td>...</td>\n",
       "      <td>...</td>\n",
       "      <td>...</td>\n",
       "    </tr>\n",
       "    <tr>\n",
       "      <th>7376</th>\n",
       "      <td>1115</td>\n",
       "      <td>{'$oid': '603d0b710a720fde1000042a'}</td>\n",
       "      <td>NaN</td>\n",
       "      <td>NaN</td>\n",
       "      <td>{'$date': 1614613361873}</td>\n",
       "      <td>{'$date': 1614613361873}</td>\n",
       "      <td>NaN</td>\n",
       "      <td>{'$date': 1614613361873}</td>\n",
       "      <td>NaN</td>\n",
       "      <td>NaN</td>\n",
       "      <td>...</td>\n",
       "      <td>NaN</td>\n",
       "      <td>NaN</td>\n",
       "      <td>NaN</td>\n",
       "      <td>NaN</td>\n",
       "      <td>NaN</td>\n",
       "      <td>NaN</td>\n",
       "      <td>NaN</td>\n",
       "      <td>NaN</td>\n",
       "      <td>NaN</td>\n",
       "      <td>NaN</td>\n",
       "    </tr>\n",
       "    <tr>\n",
       "      <th>7377</th>\n",
       "      <td>1116</td>\n",
       "      <td>{'$oid': '603cf5290a720fde10000413'}</td>\n",
       "      <td>NaN</td>\n",
       "      <td>NaN</td>\n",
       "      <td>{'$date': 1614607657664}</td>\n",
       "      <td>{'$date': 1614607657664}</td>\n",
       "      <td>NaN</td>\n",
       "      <td>{'$date': 1614607657664}</td>\n",
       "      <td>NaN</td>\n",
       "      <td>NaN</td>\n",
       "      <td>...</td>\n",
       "      <td>NaN</td>\n",
       "      <td>NaN</td>\n",
       "      <td>NaN</td>\n",
       "      <td>NaN</td>\n",
       "      <td>NaN</td>\n",
       "      <td>NaN</td>\n",
       "      <td>NaN</td>\n",
       "      <td>NaN</td>\n",
       "      <td>NaN</td>\n",
       "      <td>NaN</td>\n",
       "    </tr>\n",
       "    <tr>\n",
       "      <th>7378</th>\n",
       "      <td>1117</td>\n",
       "      <td>{'$oid': '603ce7100a7217c72c000405'}</td>\n",
       "      <td>25.0</td>\n",
       "      <td>COMPLETE_NONPARTNER_RECEIPT</td>\n",
       "      <td>{'$date': 1614604048000}</td>\n",
       "      <td>{'$date': 1614604048000}</td>\n",
       "      <td>NaN</td>\n",
       "      <td>{'$date': 1614604049000}</td>\n",
       "      <td>NaN</td>\n",
       "      <td>25.0</td>\n",
       "      <td>...</td>\n",
       "      <td>NaN</td>\n",
       "      <td>NaN</td>\n",
       "      <td>NaN</td>\n",
       "      <td>NaN</td>\n",
       "      <td>NaN</td>\n",
       "      <td>NaN</td>\n",
       "      <td>NaN</td>\n",
       "      <td>NaN</td>\n",
       "      <td>22.97</td>\n",
       "      <td>NaN</td>\n",
       "    </tr>\n",
       "    <tr>\n",
       "      <th>7379</th>\n",
       "      <td>1117</td>\n",
       "      <td>{'$oid': '603ce7100a7217c72c000405'}</td>\n",
       "      <td>25.0</td>\n",
       "      <td>COMPLETE_NONPARTNER_RECEIPT</td>\n",
       "      <td>{'$date': 1614604048000}</td>\n",
       "      <td>{'$date': 1614604048000}</td>\n",
       "      <td>NaN</td>\n",
       "      <td>{'$date': 1614604049000}</td>\n",
       "      <td>NaN</td>\n",
       "      <td>25.0</td>\n",
       "      <td>...</td>\n",
       "      <td>NaN</td>\n",
       "      <td>NaN</td>\n",
       "      <td>NaN</td>\n",
       "      <td>NaN</td>\n",
       "      <td>NaN</td>\n",
       "      <td>NaN</td>\n",
       "      <td>NaN</td>\n",
       "      <td>NaN</td>\n",
       "      <td>11.99</td>\n",
       "      <td>NaN</td>\n",
       "    </tr>\n",
       "    <tr>\n",
       "      <th>7380</th>\n",
       "      <td>1118</td>\n",
       "      <td>{'$oid': '603c4fea0a7217c72c000389'}</td>\n",
       "      <td>NaN</td>\n",
       "      <td>NaN</td>\n",
       "      <td>{'$date': 1614565354962}</td>\n",
       "      <td>{'$date': 1614565354962}</td>\n",
       "      <td>NaN</td>\n",
       "      <td>{'$date': 1614565354962}</td>\n",
       "      <td>NaN</td>\n",
       "      <td>NaN</td>\n",
       "      <td>...</td>\n",
       "      <td>NaN</td>\n",
       "      <td>NaN</td>\n",
       "      <td>NaN</td>\n",
       "      <td>NaN</td>\n",
       "      <td>NaN</td>\n",
       "      <td>NaN</td>\n",
       "      <td>NaN</td>\n",
       "      <td>NaN</td>\n",
       "      <td>NaN</td>\n",
       "      <td>NaN</td>\n",
       "    </tr>\n",
       "  </tbody>\n",
       "</table>\n",
       "<p>7381 rows × 50 columns</p>\n",
       "</div>"
      ],
      "text/plain": [
       "      index                                   _id  bonusPointsEarned  \\\n",
       "0         0  {'$oid': '5ff1e1eb0a720f0523000575'}              500.0   \n",
       "1         1  {'$oid': '5ff1e1bb0a720f052300056b'}              150.0   \n",
       "2         1  {'$oid': '5ff1e1bb0a720f052300056b'}              150.0   \n",
       "3         2  {'$oid': '5ff1e1f10a720f052300057a'}                5.0   \n",
       "4         3  {'$oid': '5ff1e1ee0a7214ada100056f'}                5.0   \n",
       "...     ...                                   ...                ...   \n",
       "7376   1115  {'$oid': '603d0b710a720fde1000042a'}                NaN   \n",
       "7377   1116  {'$oid': '603cf5290a720fde10000413'}                NaN   \n",
       "7378   1117  {'$oid': '603ce7100a7217c72c000405'}               25.0   \n",
       "7379   1117  {'$oid': '603ce7100a7217c72c000405'}               25.0   \n",
       "7380   1118  {'$oid': '603c4fea0a7217c72c000389'}                NaN   \n",
       "\n",
       "                                bonusPointsEarnedReason  \\\n",
       "0     Receipt number 2 completed, bonus point schedu...   \n",
       "1     Receipt number 5 completed, bonus point schedu...   \n",
       "2     Receipt number 5 completed, bonus point schedu...   \n",
       "3                            All-receipts receipt bonus   \n",
       "4                            All-receipts receipt bonus   \n",
       "...                                                 ...   \n",
       "7376                                                NaN   \n",
       "7377                                                NaN   \n",
       "7378                        COMPLETE_NONPARTNER_RECEIPT   \n",
       "7379                        COMPLETE_NONPARTNER_RECEIPT   \n",
       "7380                                                NaN   \n",
       "\n",
       "                    createDate               dateScanned  \\\n",
       "0     {'$date': 1609687531000}  {'$date': 1609687531000}   \n",
       "1     {'$date': 1609687483000}  {'$date': 1609687483000}   \n",
       "2     {'$date': 1609687483000}  {'$date': 1609687483000}   \n",
       "3     {'$date': 1609687537000}  {'$date': 1609687537000}   \n",
       "4     {'$date': 1609687534000}  {'$date': 1609687534000}   \n",
       "...                        ...                       ...   \n",
       "7376  {'$date': 1614613361873}  {'$date': 1614613361873}   \n",
       "7377  {'$date': 1614607657664}  {'$date': 1614607657664}   \n",
       "7378  {'$date': 1614604048000}  {'$date': 1614604048000}   \n",
       "7379  {'$date': 1614604048000}  {'$date': 1614604048000}   \n",
       "7380  {'$date': 1614565354962}  {'$date': 1614565354962}   \n",
       "\n",
       "                  finishedDate                modifyDate  \\\n",
       "0     {'$date': 1609687531000}  {'$date': 1609687536000}   \n",
       "1     {'$date': 1609687483000}  {'$date': 1609687488000}   \n",
       "2     {'$date': 1609687483000}  {'$date': 1609687488000}   \n",
       "3                          NaN  {'$date': 1609687542000}   \n",
       "4     {'$date': 1609687534000}  {'$date': 1609687539000}   \n",
       "...                        ...                       ...   \n",
       "7376                       NaN  {'$date': 1614613361873}   \n",
       "7377                       NaN  {'$date': 1614607657664}   \n",
       "7378                       NaN  {'$date': 1614604049000}   \n",
       "7379                       NaN  {'$date': 1614604049000}   \n",
       "7380                       NaN  {'$date': 1614565354962}   \n",
       "\n",
       "             pointsAwardedDate  pointsEarned  ...  \\\n",
       "0     {'$date': 1609687531000}         500.0  ...   \n",
       "1     {'$date': 1609687483000}         150.0  ...   \n",
       "2     {'$date': 1609687483000}         150.0  ...   \n",
       "3                          NaN           5.0  ...   \n",
       "4     {'$date': 1609687534000}           5.0  ...   \n",
       "...                        ...           ...  ...   \n",
       "7376                       NaN           NaN  ...   \n",
       "7377                       NaN           NaN  ...   \n",
       "7378                       NaN          25.0  ...   \n",
       "7379                       NaN          25.0  ...   \n",
       "7380                       NaN           NaN  ...   \n",
       "\n",
       "     rewardsReceiptItemList.itemNumber  \\\n",
       "0                                  NaN   \n",
       "1                                  NaN   \n",
       "2                                  NaN   \n",
       "3                                  NaN   \n",
       "4                                  NaN   \n",
       "...                                ...   \n",
       "7376                               NaN   \n",
       "7377                               NaN   \n",
       "7378                               NaN   \n",
       "7379                               NaN   \n",
       "7380                               NaN   \n",
       "\n",
       "      rewardsReceiptItemList.originalMetaBriteQuantityPurchased  \\\n",
       "0                                                   NaN           \n",
       "1                                                   NaN           \n",
       "2                                                   NaN           \n",
       "3                                                   NaN           \n",
       "4                                                   NaN           \n",
       "...                                                 ...           \n",
       "7376                                                NaN           \n",
       "7377                                                NaN           \n",
       "7378                                                NaN           \n",
       "7379                                                NaN           \n",
       "7380                                                NaN           \n",
       "\n",
       "     rewardsReceiptItemList.pointsEarned rewardsReceiptItemList.targetPrice  \\\n",
       "0                                    NaN                                NaN   \n",
       "1                                    NaN                                NaN   \n",
       "2                                    NaN                                NaN   \n",
       "3                                    NaN                                NaN   \n",
       "4                                    NaN                                NaN   \n",
       "...                                  ...                                ...   \n",
       "7376                                 NaN                                NaN   \n",
       "7377                                 NaN                                NaN   \n",
       "7378                                 NaN                                NaN   \n",
       "7379                                 NaN                                NaN   \n",
       "7380                                 NaN                                NaN   \n",
       "\n",
       "      rewardsReceiptItemList.competitiveProduct  \\\n",
       "0                                           NaN   \n",
       "1                                           NaN   \n",
       "2                                           NaN   \n",
       "3                                           NaN   \n",
       "4                                           NaN   \n",
       "...                                         ...   \n",
       "7376                                        NaN   \n",
       "7377                                        NaN   \n",
       "7378                                        NaN   \n",
       "7379                                        NaN   \n",
       "7380                                        NaN   \n",
       "\n",
       "     rewardsReceiptItemList.originalFinalPrice  \\\n",
       "0                                          NaN   \n",
       "1                                          NaN   \n",
       "2                                          NaN   \n",
       "3                                          NaN   \n",
       "4                                          NaN   \n",
       "...                                        ...   \n",
       "7376                                       NaN   \n",
       "7377                                       NaN   \n",
       "7378                                       NaN   \n",
       "7379                                       NaN   \n",
       "7380                                       NaN   \n",
       "\n",
       "     rewardsReceiptItemList.originalMetaBriteItemPrice  \\\n",
       "0                                                  NaN   \n",
       "1                                                  NaN   \n",
       "2                                                  NaN   \n",
       "3                                                  NaN   \n",
       "4                                                  NaN   \n",
       "...                                                ...   \n",
       "7376                                               NaN   \n",
       "7377                                               NaN   \n",
       "7378                                               NaN   \n",
       "7379                                               NaN   \n",
       "7380                                               NaN   \n",
       "\n",
       "     rewardsReceiptItemList.deleted rewardsReceiptItemList.priceAfterCoupon  \\\n",
       "0                               NaN                                     NaN   \n",
       "1                               NaN                                     NaN   \n",
       "2                               NaN                                     NaN   \n",
       "3                               NaN                                     NaN   \n",
       "4                               NaN                                     NaN   \n",
       "...                             ...                                     ...   \n",
       "7376                            NaN                                     NaN   \n",
       "7377                            NaN                                     NaN   \n",
       "7378                            NaN                                   22.97   \n",
       "7379                            NaN                                   11.99   \n",
       "7380                            NaN                                     NaN   \n",
       "\n",
       "     rewardsReceiptItemList.metabriteCampaignId  \n",
       "0                                           NaN  \n",
       "1                                           NaN  \n",
       "2                                           NaN  \n",
       "3                                           NaN  \n",
       "4                                           NaN  \n",
       "...                                         ...  \n",
       "7376                                        NaN  \n",
       "7377                                        NaN  \n",
       "7378                                        NaN  \n",
       "7379                                        NaN  \n",
       "7380                                        NaN  \n",
       "\n",
       "[7381 rows x 50 columns]"
      ]
     },
     "execution_count": 9,
     "metadata": {},
     "output_type": "execute_result"
    }
   ],
   "source": [
    "receipts_final"
   ]
  },
  {
   "cell_type": "markdown",
   "metadata": {
    "id": "-_Pe3SYx4JhF"
   },
   "source": [
    "Now that we have exploded 'rewardsReceiptItemList' into multiple rows and split the keys into different columns we need to format the other fields that have dictionaries."
   ]
  },
  {
   "cell_type": "code",
   "execution_count": 10,
   "metadata": {
    "colab": {
     "base_uri": "https://localhost:8080/"
    },
    "id": "6lS2tNGNpke5",
    "outputId": "054f9393-cec3-41da-81c1-8c0aa64744d5"
   },
   "outputs": [
    {
     "data": {
      "text/plain": [
       "{'$oid'}"
      ]
     },
     "execution_count": 10,
     "metadata": {},
     "output_type": "execute_result"
    }
   ],
   "source": [
    "set().union(*(d.keys() for d in receipts_final['_id']))"
   ]
  },
  {
   "cell_type": "code",
   "execution_count": 11,
   "metadata": {
    "colab": {
     "base_uri": "https://localhost:8080/"
    },
    "id": "P9cWCYt75JCc",
    "outputId": "b3baaa25-4f14-4488-9508-e01f2dccdfa7"
   },
   "outputs": [
    {
     "data": {
      "text/plain": [
       "{'$date'}"
      ]
     },
     "execution_count": 11,
     "metadata": {},
     "output_type": "execute_result"
    }
   ],
   "source": [
    "set().union(*(d.keys() for d in receipts_final['createDate']))"
   ]
  },
  {
   "cell_type": "code",
   "execution_count": 12,
   "metadata": {
    "colab": {
     "base_uri": "https://localhost:8080/"
    },
    "id": "JgrtG7So5Zp1",
    "outputId": "963d4209-a383-41fd-ea09-659271cd64c5"
   },
   "outputs": [
    {
     "data": {
      "text/plain": [
       "{'$date'}"
      ]
     },
     "execution_count": 12,
     "metadata": {},
     "output_type": "execute_result"
    }
   ],
   "source": [
    "set().union(*(d.keys() for d in receipts_final['dateScanned']))"
   ]
  },
  {
   "cell_type": "code",
   "execution_count": 13,
   "metadata": {
    "colab": {
     "base_uri": "https://localhost:8080/"
    },
    "id": "lIhctMDJ5eQ1",
    "outputId": "bbde9135-cc11-4199-8981-d37701440771"
   },
   "outputs": [
    {
     "data": {
      "text/plain": [
       "{'$date'}"
      ]
     },
     "execution_count": 13,
     "metadata": {},
     "output_type": "execute_result"
    }
   ],
   "source": [
    "set().union(*(d.keys() for d in receipts_final.dropna(subset=['finishedDate'])['finishedDate']))"
   ]
  },
  {
   "cell_type": "code",
   "execution_count": 14,
   "metadata": {
    "colab": {
     "base_uri": "https://localhost:8080/"
    },
    "id": "Dq0txCYo9t7G",
    "outputId": "37a1a359-5fb8-469a-ebba-d492f848f387"
   },
   "outputs": [
    {
     "data": {
      "text/plain": [
       "{'$date'}"
      ]
     },
     "execution_count": 14,
     "metadata": {},
     "output_type": "execute_result"
    }
   ],
   "source": [
    "set().union(*(d.keys() for d in receipts_final.dropna(subset=['modifyDate'])['modifyDate']))"
   ]
  },
  {
   "cell_type": "code",
   "execution_count": 15,
   "metadata": {
    "colab": {
     "base_uri": "https://localhost:8080/"
    },
    "id": "NAzZtoWc9uHW",
    "outputId": "2696f90e-aa5f-46d6-c4fe-05eee8f33b29"
   },
   "outputs": [
    {
     "data": {
      "text/plain": [
       "{'$date'}"
      ]
     },
     "execution_count": 15,
     "metadata": {},
     "output_type": "execute_result"
    }
   ],
   "source": [
    "set().union(*(d.keys() for d in receipts_final.dropna(subset=['pointsAwardedDate'])['pointsAwardedDate']))"
   ]
  },
  {
   "cell_type": "code",
   "execution_count": 16,
   "metadata": {
    "colab": {
     "base_uri": "https://localhost:8080/"
    },
    "id": "As_wsLUd9uWN",
    "outputId": "b79a93ac-b53f-434b-f481-6c2bc9a7cc28"
   },
   "outputs": [
    {
     "data": {
      "text/plain": [
       "{'$date'}"
      ]
     },
     "execution_count": 16,
     "metadata": {},
     "output_type": "execute_result"
    }
   ],
   "source": [
    "set().union(*(d.keys() for d in receipts_final.dropna(subset=['purchaseDate'])['purchaseDate']))"
   ]
  },
  {
   "cell_type": "markdown",
   "metadata": {
    "id": "-_4d08NG-TLg"
   },
   "source": [
    "We see that each of these columns contain only one dictionary item each so we just need to extract these fields. As for the date columns the time is stored as UTC so we convert that into datetime format using the apply function."
   ]
  },
  {
   "cell_type": "code",
   "execution_count": 17,
   "metadata": {
    "id": "2JQlNJ_j7ZHH"
   },
   "outputs": [],
   "source": [
    "def date_converter(x):\n",
    "  try:\n",
    "    return(datetime.utcfromtimestamp(int(x['$date'])/1000).strftime('%Y-%m-%d %H:%M:%S'))\n",
    "  except TypeError:\n",
    "    return(None)\n"
   ]
  },
  {
   "cell_type": "code",
   "execution_count": 18,
   "metadata": {
    "id": "XKCmHlDFpTbs"
   },
   "outputs": [],
   "source": [
    "receipts_final['_id'] = receipts_final['_id'].apply(lambda x: x['$oid'])\n",
    "receipts_final['createDate'] = receipts_final['createDate'].apply(lambda x: date_converter(x))\n",
    "receipts_final['dateScanned'] = receipts_final['dateScanned'].apply(lambda x: date_converter(x))\n",
    "receipts_final['finishedDate'] = receipts_final['finishedDate'].apply(lambda x: date_converter(x))\n",
    "receipts_final['modifyDate'] = receipts_final['modifyDate'].apply(lambda x: date_converter(x))\n",
    "receipts_final['pointsAwardedDate'] = receipts_final['pointsAwardedDate'].apply(lambda x: date_converter(x))\n",
    "receipts_final['purchaseDate'] = receipts_final['purchaseDate'].apply(lambda x: date_converter(x))"
   ]
  },
  {
   "cell_type": "code",
   "execution_count": 19,
   "metadata": {
    "colab": {
     "base_uri": "https://localhost:8080/",
     "height": 366
    },
    "id": "EqFlCOaT6tAK",
    "outputId": "36631cf7-83bc-4c58-880e-f7afe1163bda"
   },
   "outputs": [
    {
     "data": {
      "text/html": [
       "<div>\n",
       "<style scoped>\n",
       "    .dataframe tbody tr th:only-of-type {\n",
       "        vertical-align: middle;\n",
       "    }\n",
       "\n",
       "    .dataframe tbody tr th {\n",
       "        vertical-align: top;\n",
       "    }\n",
       "\n",
       "    .dataframe thead th {\n",
       "        text-align: right;\n",
       "    }\n",
       "</style>\n",
       "<table border=\"1\" class=\"dataframe\">\n",
       "  <thead>\n",
       "    <tr style=\"text-align: right;\">\n",
       "      <th></th>\n",
       "      <th>index</th>\n",
       "      <th>_id</th>\n",
       "      <th>bonusPointsEarned</th>\n",
       "      <th>bonusPointsEarnedReason</th>\n",
       "      <th>createDate</th>\n",
       "      <th>dateScanned</th>\n",
       "      <th>finishedDate</th>\n",
       "      <th>modifyDate</th>\n",
       "      <th>pointsAwardedDate</th>\n",
       "      <th>pointsEarned</th>\n",
       "      <th>...</th>\n",
       "      <th>rewardsReceiptItemList.itemNumber</th>\n",
       "      <th>rewardsReceiptItemList.originalMetaBriteQuantityPurchased</th>\n",
       "      <th>rewardsReceiptItemList.pointsEarned</th>\n",
       "      <th>rewardsReceiptItemList.targetPrice</th>\n",
       "      <th>rewardsReceiptItemList.competitiveProduct</th>\n",
       "      <th>rewardsReceiptItemList.originalFinalPrice</th>\n",
       "      <th>rewardsReceiptItemList.originalMetaBriteItemPrice</th>\n",
       "      <th>rewardsReceiptItemList.deleted</th>\n",
       "      <th>rewardsReceiptItemList.priceAfterCoupon</th>\n",
       "      <th>rewardsReceiptItemList.metabriteCampaignId</th>\n",
       "    </tr>\n",
       "  </thead>\n",
       "  <tbody>\n",
       "    <tr>\n",
       "      <th>0</th>\n",
       "      <td>0</td>\n",
       "      <td>5ff1e1eb0a720f0523000575</td>\n",
       "      <td>500.0</td>\n",
       "      <td>Receipt number 2 completed, bonus point schedu...</td>\n",
       "      <td>2021-01-03 15:25:31</td>\n",
       "      <td>2021-01-03 15:25:31</td>\n",
       "      <td>2021-01-03 15:25:31</td>\n",
       "      <td>2021-01-03 15:25:36</td>\n",
       "      <td>2021-01-03 15:25:31</td>\n",
       "      <td>500.0</td>\n",
       "      <td>...</td>\n",
       "      <td>NaN</td>\n",
       "      <td>NaN</td>\n",
       "      <td>NaN</td>\n",
       "      <td>NaN</td>\n",
       "      <td>NaN</td>\n",
       "      <td>NaN</td>\n",
       "      <td>NaN</td>\n",
       "      <td>NaN</td>\n",
       "      <td>NaN</td>\n",
       "      <td>NaN</td>\n",
       "    </tr>\n",
       "    <tr>\n",
       "      <th>1</th>\n",
       "      <td>1</td>\n",
       "      <td>5ff1e1bb0a720f052300056b</td>\n",
       "      <td>150.0</td>\n",
       "      <td>Receipt number 5 completed, bonus point schedu...</td>\n",
       "      <td>2021-01-03 15:24:43</td>\n",
       "      <td>2021-01-03 15:24:43</td>\n",
       "      <td>2021-01-03 15:24:43</td>\n",
       "      <td>2021-01-03 15:24:48</td>\n",
       "      <td>2021-01-03 15:24:43</td>\n",
       "      <td>150.0</td>\n",
       "      <td>...</td>\n",
       "      <td>NaN</td>\n",
       "      <td>NaN</td>\n",
       "      <td>NaN</td>\n",
       "      <td>NaN</td>\n",
       "      <td>NaN</td>\n",
       "      <td>NaN</td>\n",
       "      <td>NaN</td>\n",
       "      <td>NaN</td>\n",
       "      <td>NaN</td>\n",
       "      <td>NaN</td>\n",
       "    </tr>\n",
       "    <tr>\n",
       "      <th>2</th>\n",
       "      <td>1</td>\n",
       "      <td>5ff1e1bb0a720f052300056b</td>\n",
       "      <td>150.0</td>\n",
       "      <td>Receipt number 5 completed, bonus point schedu...</td>\n",
       "      <td>2021-01-03 15:24:43</td>\n",
       "      <td>2021-01-03 15:24:43</td>\n",
       "      <td>2021-01-03 15:24:43</td>\n",
       "      <td>2021-01-03 15:24:48</td>\n",
       "      <td>2021-01-03 15:24:43</td>\n",
       "      <td>150.0</td>\n",
       "      <td>...</td>\n",
       "      <td>NaN</td>\n",
       "      <td>NaN</td>\n",
       "      <td>NaN</td>\n",
       "      <td>NaN</td>\n",
       "      <td>NaN</td>\n",
       "      <td>NaN</td>\n",
       "      <td>NaN</td>\n",
       "      <td>NaN</td>\n",
       "      <td>NaN</td>\n",
       "      <td>NaN</td>\n",
       "    </tr>\n",
       "    <tr>\n",
       "      <th>3</th>\n",
       "      <td>2</td>\n",
       "      <td>5ff1e1f10a720f052300057a</td>\n",
       "      <td>5.0</td>\n",
       "      <td>All-receipts receipt bonus</td>\n",
       "      <td>2021-01-03 15:25:37</td>\n",
       "      <td>2021-01-03 15:25:37</td>\n",
       "      <td>None</td>\n",
       "      <td>2021-01-03 15:25:42</td>\n",
       "      <td>None</td>\n",
       "      <td>5.0</td>\n",
       "      <td>...</td>\n",
       "      <td>NaN</td>\n",
       "      <td>NaN</td>\n",
       "      <td>NaN</td>\n",
       "      <td>NaN</td>\n",
       "      <td>NaN</td>\n",
       "      <td>NaN</td>\n",
       "      <td>NaN</td>\n",
       "      <td>NaN</td>\n",
       "      <td>NaN</td>\n",
       "      <td>NaN</td>\n",
       "    </tr>\n",
       "    <tr>\n",
       "      <th>4</th>\n",
       "      <td>3</td>\n",
       "      <td>5ff1e1ee0a7214ada100056f</td>\n",
       "      <td>5.0</td>\n",
       "      <td>All-receipts receipt bonus</td>\n",
       "      <td>2021-01-03 15:25:34</td>\n",
       "      <td>2021-01-03 15:25:34</td>\n",
       "      <td>2021-01-03 15:25:34</td>\n",
       "      <td>2021-01-03 15:25:39</td>\n",
       "      <td>2021-01-03 15:25:34</td>\n",
       "      <td>5.0</td>\n",
       "      <td>...</td>\n",
       "      <td>NaN</td>\n",
       "      <td>NaN</td>\n",
       "      <td>NaN</td>\n",
       "      <td>NaN</td>\n",
       "      <td>NaN</td>\n",
       "      <td>NaN</td>\n",
       "      <td>NaN</td>\n",
       "      <td>NaN</td>\n",
       "      <td>NaN</td>\n",
       "      <td>NaN</td>\n",
       "    </tr>\n",
       "  </tbody>\n",
       "</table>\n",
       "<p>5 rows × 50 columns</p>\n",
       "</div>"
      ],
      "text/plain": [
       "   index                       _id  bonusPointsEarned  \\\n",
       "0      0  5ff1e1eb0a720f0523000575              500.0   \n",
       "1      1  5ff1e1bb0a720f052300056b              150.0   \n",
       "2      1  5ff1e1bb0a720f052300056b              150.0   \n",
       "3      2  5ff1e1f10a720f052300057a                5.0   \n",
       "4      3  5ff1e1ee0a7214ada100056f                5.0   \n",
       "\n",
       "                             bonusPointsEarnedReason           createDate  \\\n",
       "0  Receipt number 2 completed, bonus point schedu...  2021-01-03 15:25:31   \n",
       "1  Receipt number 5 completed, bonus point schedu...  2021-01-03 15:24:43   \n",
       "2  Receipt number 5 completed, bonus point schedu...  2021-01-03 15:24:43   \n",
       "3                         All-receipts receipt bonus  2021-01-03 15:25:37   \n",
       "4                         All-receipts receipt bonus  2021-01-03 15:25:34   \n",
       "\n",
       "           dateScanned         finishedDate           modifyDate  \\\n",
       "0  2021-01-03 15:25:31  2021-01-03 15:25:31  2021-01-03 15:25:36   \n",
       "1  2021-01-03 15:24:43  2021-01-03 15:24:43  2021-01-03 15:24:48   \n",
       "2  2021-01-03 15:24:43  2021-01-03 15:24:43  2021-01-03 15:24:48   \n",
       "3  2021-01-03 15:25:37                 None  2021-01-03 15:25:42   \n",
       "4  2021-01-03 15:25:34  2021-01-03 15:25:34  2021-01-03 15:25:39   \n",
       "\n",
       "     pointsAwardedDate  pointsEarned  ... rewardsReceiptItemList.itemNumber  \\\n",
       "0  2021-01-03 15:25:31         500.0  ...                               NaN   \n",
       "1  2021-01-03 15:24:43         150.0  ...                               NaN   \n",
       "2  2021-01-03 15:24:43         150.0  ...                               NaN   \n",
       "3                 None           5.0  ...                               NaN   \n",
       "4  2021-01-03 15:25:34           5.0  ...                               NaN   \n",
       "\n",
       "   rewardsReceiptItemList.originalMetaBriteQuantityPurchased  \\\n",
       "0                                                NaN           \n",
       "1                                                NaN           \n",
       "2                                                NaN           \n",
       "3                                                NaN           \n",
       "4                                                NaN           \n",
       "\n",
       "  rewardsReceiptItemList.pointsEarned rewardsReceiptItemList.targetPrice  \\\n",
       "0                                 NaN                                NaN   \n",
       "1                                 NaN                                NaN   \n",
       "2                                 NaN                                NaN   \n",
       "3                                 NaN                                NaN   \n",
       "4                                 NaN                                NaN   \n",
       "\n",
       "   rewardsReceiptItemList.competitiveProduct  \\\n",
       "0                                        NaN   \n",
       "1                                        NaN   \n",
       "2                                        NaN   \n",
       "3                                        NaN   \n",
       "4                                        NaN   \n",
       "\n",
       "  rewardsReceiptItemList.originalFinalPrice  \\\n",
       "0                                       NaN   \n",
       "1                                       NaN   \n",
       "2                                       NaN   \n",
       "3                                       NaN   \n",
       "4                                       NaN   \n",
       "\n",
       "  rewardsReceiptItemList.originalMetaBriteItemPrice  \\\n",
       "0                                               NaN   \n",
       "1                                               NaN   \n",
       "2                                               NaN   \n",
       "3                                               NaN   \n",
       "4                                               NaN   \n",
       "\n",
       "  rewardsReceiptItemList.deleted rewardsReceiptItemList.priceAfterCoupon  \\\n",
       "0                            NaN                                     NaN   \n",
       "1                            NaN                                     NaN   \n",
       "2                            NaN                                     NaN   \n",
       "3                            NaN                                     NaN   \n",
       "4                            NaN                                     NaN   \n",
       "\n",
       "  rewardsReceiptItemList.metabriteCampaignId  \n",
       "0                                        NaN  \n",
       "1                                        NaN  \n",
       "2                                        NaN  \n",
       "3                                        NaN  \n",
       "4                                        NaN  \n",
       "\n",
       "[5 rows x 50 columns]"
      ]
     },
     "execution_count": 19,
     "metadata": {},
     "output_type": "execute_result"
    }
   ],
   "source": [
    "receipts_final.head()"
   ]
  },
  {
   "cell_type": "markdown",
   "metadata": {
    "id": "OczaNOHc_NeJ"
   },
   "source": [
    "### Users table"
   ]
  },
  {
   "cell_type": "code",
   "execution_count": 20,
   "metadata": {
    "colab": {
     "base_uri": "https://localhost:8080/",
     "height": 195
    },
    "id": "W_Ow56z78U1o",
    "outputId": "6cbe3bf7-3270-4f73-e4b8-f75857cda29a"
   },
   "outputs": [
    {
     "data": {
      "text/html": [
       "<div>\n",
       "<style scoped>\n",
       "    .dataframe tbody tr th:only-of-type {\n",
       "        vertical-align: middle;\n",
       "    }\n",
       "\n",
       "    .dataframe tbody tr th {\n",
       "        vertical-align: top;\n",
       "    }\n",
       "\n",
       "    .dataframe thead th {\n",
       "        text-align: right;\n",
       "    }\n",
       "</style>\n",
       "<table border=\"1\" class=\"dataframe\">\n",
       "  <thead>\n",
       "    <tr style=\"text-align: right;\">\n",
       "      <th></th>\n",
       "      <th>_id</th>\n",
       "      <th>active</th>\n",
       "      <th>createdDate</th>\n",
       "      <th>lastLogin</th>\n",
       "      <th>role</th>\n",
       "      <th>signUpSource</th>\n",
       "      <th>state</th>\n",
       "    </tr>\n",
       "  </thead>\n",
       "  <tbody>\n",
       "    <tr>\n",
       "      <th>0</th>\n",
       "      <td>{'$oid': '5ff1e194b6a9d73a3a9f1052'}</td>\n",
       "      <td>True</td>\n",
       "      <td>{'$date': 1609687444800}</td>\n",
       "      <td>{'$date': 1609687537858}</td>\n",
       "      <td>consumer</td>\n",
       "      <td>Email</td>\n",
       "      <td>WI</td>\n",
       "    </tr>\n",
       "    <tr>\n",
       "      <th>1</th>\n",
       "      <td>{'$oid': '5ff1e194b6a9d73a3a9f1052'}</td>\n",
       "      <td>True</td>\n",
       "      <td>{'$date': 1609687444800}</td>\n",
       "      <td>{'$date': 1609687537858}</td>\n",
       "      <td>consumer</td>\n",
       "      <td>Email</td>\n",
       "      <td>WI</td>\n",
       "    </tr>\n",
       "    <tr>\n",
       "      <th>2</th>\n",
       "      <td>{'$oid': '5ff1e194b6a9d73a3a9f1052'}</td>\n",
       "      <td>True</td>\n",
       "      <td>{'$date': 1609687444800}</td>\n",
       "      <td>{'$date': 1609687537858}</td>\n",
       "      <td>consumer</td>\n",
       "      <td>Email</td>\n",
       "      <td>WI</td>\n",
       "    </tr>\n",
       "    <tr>\n",
       "      <th>3</th>\n",
       "      <td>{'$oid': '5ff1e1eacfcf6c399c274ae6'}</td>\n",
       "      <td>True</td>\n",
       "      <td>{'$date': 1609687530554}</td>\n",
       "      <td>{'$date': 1609687530597}</td>\n",
       "      <td>consumer</td>\n",
       "      <td>Email</td>\n",
       "      <td>WI</td>\n",
       "    </tr>\n",
       "    <tr>\n",
       "      <th>4</th>\n",
       "      <td>{'$oid': '5ff1e194b6a9d73a3a9f1052'}</td>\n",
       "      <td>True</td>\n",
       "      <td>{'$date': 1609687444800}</td>\n",
       "      <td>{'$date': 1609687537858}</td>\n",
       "      <td>consumer</td>\n",
       "      <td>Email</td>\n",
       "      <td>WI</td>\n",
       "    </tr>\n",
       "  </tbody>\n",
       "</table>\n",
       "</div>"
      ],
      "text/plain": [
       "                                    _id  active               createdDate  \\\n",
       "0  {'$oid': '5ff1e194b6a9d73a3a9f1052'}    True  {'$date': 1609687444800}   \n",
       "1  {'$oid': '5ff1e194b6a9d73a3a9f1052'}    True  {'$date': 1609687444800}   \n",
       "2  {'$oid': '5ff1e194b6a9d73a3a9f1052'}    True  {'$date': 1609687444800}   \n",
       "3  {'$oid': '5ff1e1eacfcf6c399c274ae6'}    True  {'$date': 1609687530554}   \n",
       "4  {'$oid': '5ff1e194b6a9d73a3a9f1052'}    True  {'$date': 1609687444800}   \n",
       "\n",
       "                  lastLogin      role signUpSource state  \n",
       "0  {'$date': 1609687537858}  consumer        Email    WI  \n",
       "1  {'$date': 1609687537858}  consumer        Email    WI  \n",
       "2  {'$date': 1609687537858}  consumer        Email    WI  \n",
       "3  {'$date': 1609687530597}  consumer        Email    WI  \n",
       "4  {'$date': 1609687537858}  consumer        Email    WI  "
      ]
     },
     "execution_count": 20,
     "metadata": {},
     "output_type": "execute_result"
    }
   ],
   "source": [
    "users.head()"
   ]
  },
  {
   "cell_type": "code",
   "execution_count": 21,
   "metadata": {
    "colab": {
     "base_uri": "https://localhost:8080/"
    },
    "id": "DNbNbcFs_VWt",
    "outputId": "842d5c2a-48e0-4315-989e-9c13d6637f51"
   },
   "outputs": [
    {
     "data": {
      "text/plain": [
       "{'$oid'}"
      ]
     },
     "execution_count": 21,
     "metadata": {},
     "output_type": "execute_result"
    }
   ],
   "source": [
    "set().union(*(d.keys() for d in users['_id']))"
   ]
  },
  {
   "cell_type": "code",
   "execution_count": 22,
   "metadata": {
    "colab": {
     "base_uri": "https://localhost:8080/"
    },
    "id": "skCkjz5F_ZeJ",
    "outputId": "5551c5fb-3ed5-466e-b701-1b5dc315c13a"
   },
   "outputs": [
    {
     "data": {
      "text/plain": [
       "{'$date'}"
      ]
     },
     "execution_count": 22,
     "metadata": {},
     "output_type": "execute_result"
    }
   ],
   "source": [
    "set().union(*(d.keys() for d in users['createdDate']))"
   ]
  },
  {
   "cell_type": "code",
   "execution_count": 23,
   "metadata": {
    "colab": {
     "base_uri": "https://localhost:8080/"
    },
    "id": "OaoXmgZM_d8c",
    "outputId": "bc1596cc-768f-421d-89ee-10639624a9b1"
   },
   "outputs": [
    {
     "data": {
      "text/plain": [
       "{'$date'}"
      ]
     },
     "execution_count": 23,
     "metadata": {},
     "output_type": "execute_result"
    }
   ],
   "source": [
    "set().union(*(d.keys() for d in users.dropna(subset=['lastLogin'])['lastLogin']))"
   ]
  },
  {
   "cell_type": "markdown",
   "metadata": {
    "id": "WKr6sL30__uS"
   },
   "source": [
    "Here we see that each dictionary contains just one key each and we just need to extract the value and we will use the same function created earlier to convert date into a user friendly format."
   ]
  },
  {
   "cell_type": "code",
   "execution_count": 24,
   "metadata": {
    "id": "GbbdzE8fALGw"
   },
   "outputs": [],
   "source": [
    "users['_id'] = users['_id'].apply(lambda x: x['$oid'])\n",
    "users['createdDate'] = users['createdDate'].apply(lambda x: date_converter(x))\n",
    "users['lastLogin'] = users['lastLogin'].apply(lambda x: date_converter(x))"
   ]
  },
  {
   "cell_type": "code",
   "execution_count": 25,
   "metadata": {
    "colab": {
     "base_uri": "https://localhost:8080/",
     "height": 195
    },
    "id": "-RHO3hhBAUnn",
    "outputId": "c8247ff1-1fa9-4efa-9ad4-4255f94e2d07"
   },
   "outputs": [
    {
     "data": {
      "text/html": [
       "<div>\n",
       "<style scoped>\n",
       "    .dataframe tbody tr th:only-of-type {\n",
       "        vertical-align: middle;\n",
       "    }\n",
       "\n",
       "    .dataframe tbody tr th {\n",
       "        vertical-align: top;\n",
       "    }\n",
       "\n",
       "    .dataframe thead th {\n",
       "        text-align: right;\n",
       "    }\n",
       "</style>\n",
       "<table border=\"1\" class=\"dataframe\">\n",
       "  <thead>\n",
       "    <tr style=\"text-align: right;\">\n",
       "      <th></th>\n",
       "      <th>_id</th>\n",
       "      <th>active</th>\n",
       "      <th>createdDate</th>\n",
       "      <th>lastLogin</th>\n",
       "      <th>role</th>\n",
       "      <th>signUpSource</th>\n",
       "      <th>state</th>\n",
       "    </tr>\n",
       "  </thead>\n",
       "  <tbody>\n",
       "    <tr>\n",
       "      <th>0</th>\n",
       "      <td>5ff1e194b6a9d73a3a9f1052</td>\n",
       "      <td>True</td>\n",
       "      <td>2021-01-03 15:24:04</td>\n",
       "      <td>2021-01-03 15:25:37</td>\n",
       "      <td>consumer</td>\n",
       "      <td>Email</td>\n",
       "      <td>WI</td>\n",
       "    </tr>\n",
       "    <tr>\n",
       "      <th>1</th>\n",
       "      <td>5ff1e194b6a9d73a3a9f1052</td>\n",
       "      <td>True</td>\n",
       "      <td>2021-01-03 15:24:04</td>\n",
       "      <td>2021-01-03 15:25:37</td>\n",
       "      <td>consumer</td>\n",
       "      <td>Email</td>\n",
       "      <td>WI</td>\n",
       "    </tr>\n",
       "    <tr>\n",
       "      <th>2</th>\n",
       "      <td>5ff1e194b6a9d73a3a9f1052</td>\n",
       "      <td>True</td>\n",
       "      <td>2021-01-03 15:24:04</td>\n",
       "      <td>2021-01-03 15:25:37</td>\n",
       "      <td>consumer</td>\n",
       "      <td>Email</td>\n",
       "      <td>WI</td>\n",
       "    </tr>\n",
       "    <tr>\n",
       "      <th>3</th>\n",
       "      <td>5ff1e1eacfcf6c399c274ae6</td>\n",
       "      <td>True</td>\n",
       "      <td>2021-01-03 15:25:30</td>\n",
       "      <td>2021-01-03 15:25:30</td>\n",
       "      <td>consumer</td>\n",
       "      <td>Email</td>\n",
       "      <td>WI</td>\n",
       "    </tr>\n",
       "    <tr>\n",
       "      <th>4</th>\n",
       "      <td>5ff1e194b6a9d73a3a9f1052</td>\n",
       "      <td>True</td>\n",
       "      <td>2021-01-03 15:24:04</td>\n",
       "      <td>2021-01-03 15:25:37</td>\n",
       "      <td>consumer</td>\n",
       "      <td>Email</td>\n",
       "      <td>WI</td>\n",
       "    </tr>\n",
       "  </tbody>\n",
       "</table>\n",
       "</div>"
      ],
      "text/plain": [
       "                        _id  active          createdDate            lastLogin  \\\n",
       "0  5ff1e194b6a9d73a3a9f1052    True  2021-01-03 15:24:04  2021-01-03 15:25:37   \n",
       "1  5ff1e194b6a9d73a3a9f1052    True  2021-01-03 15:24:04  2021-01-03 15:25:37   \n",
       "2  5ff1e194b6a9d73a3a9f1052    True  2021-01-03 15:24:04  2021-01-03 15:25:37   \n",
       "3  5ff1e1eacfcf6c399c274ae6    True  2021-01-03 15:25:30  2021-01-03 15:25:30   \n",
       "4  5ff1e194b6a9d73a3a9f1052    True  2021-01-03 15:24:04  2021-01-03 15:25:37   \n",
       "\n",
       "       role signUpSource state  \n",
       "0  consumer        Email    WI  \n",
       "1  consumer        Email    WI  \n",
       "2  consumer        Email    WI  \n",
       "3  consumer        Email    WI  \n",
       "4  consumer        Email    WI  "
      ]
     },
     "execution_count": 25,
     "metadata": {},
     "output_type": "execute_result"
    }
   ],
   "source": [
    "users.head()"
   ]
  },
  {
   "cell_type": "markdown",
   "metadata": {
    "id": "lmgW9D1bBBJz"
   },
   "source": [
    "## Brands table"
   ]
  },
  {
   "cell_type": "code",
   "execution_count": 26,
   "metadata": {
    "colab": {
     "base_uri": "https://localhost:8080/",
     "height": 383
    },
    "id": "7_Q-HNKn8cff",
    "outputId": "382cc1b9-b243-46ac-ba6a-9786b6ee2319"
   },
   "outputs": [
    {
     "data": {
      "text/html": [
       "<div>\n",
       "<style scoped>\n",
       "    .dataframe tbody tr th:only-of-type {\n",
       "        vertical-align: middle;\n",
       "    }\n",
       "\n",
       "    .dataframe tbody tr th {\n",
       "        vertical-align: top;\n",
       "    }\n",
       "\n",
       "    .dataframe thead th {\n",
       "        text-align: right;\n",
       "    }\n",
       "</style>\n",
       "<table border=\"1\" class=\"dataframe\">\n",
       "  <thead>\n",
       "    <tr style=\"text-align: right;\">\n",
       "      <th></th>\n",
       "      <th>_id</th>\n",
       "      <th>barcode</th>\n",
       "      <th>category</th>\n",
       "      <th>categoryCode</th>\n",
       "      <th>cpg</th>\n",
       "      <th>name</th>\n",
       "      <th>topBrand</th>\n",
       "      <th>brandCode</th>\n",
       "    </tr>\n",
       "  </thead>\n",
       "  <tbody>\n",
       "    <tr>\n",
       "      <th>0</th>\n",
       "      <td>{'$oid': '601ac115be37ce2ead437551'}</td>\n",
       "      <td>511111019862</td>\n",
       "      <td>Baking</td>\n",
       "      <td>BAKING</td>\n",
       "      <td>{'$id': {'$oid': '601ac114be37ce2ead437550'}, ...</td>\n",
       "      <td>test brand @1612366101024</td>\n",
       "      <td>0.0</td>\n",
       "      <td>NaN</td>\n",
       "    </tr>\n",
       "    <tr>\n",
       "      <th>1</th>\n",
       "      <td>{'$oid': '601c5460be37ce2ead43755f'}</td>\n",
       "      <td>511111519928</td>\n",
       "      <td>Beverages</td>\n",
       "      <td>BEVERAGES</td>\n",
       "      <td>{'$id': {'$oid': '5332f5fbe4b03c9a25efd0ba'}, ...</td>\n",
       "      <td>Starbucks</td>\n",
       "      <td>0.0</td>\n",
       "      <td>STARBUCKS</td>\n",
       "    </tr>\n",
       "    <tr>\n",
       "      <th>2</th>\n",
       "      <td>{'$oid': '601ac142be37ce2ead43755d'}</td>\n",
       "      <td>511111819905</td>\n",
       "      <td>Baking</td>\n",
       "      <td>BAKING</td>\n",
       "      <td>{'$id': {'$oid': '601ac142be37ce2ead437559'}, ...</td>\n",
       "      <td>test brand @1612366146176</td>\n",
       "      <td>0.0</td>\n",
       "      <td>TEST BRANDCODE @1612366146176</td>\n",
       "    </tr>\n",
       "    <tr>\n",
       "      <th>3</th>\n",
       "      <td>{'$oid': '601ac142be37ce2ead43755a'}</td>\n",
       "      <td>511111519874</td>\n",
       "      <td>Baking</td>\n",
       "      <td>BAKING</td>\n",
       "      <td>{'$id': {'$oid': '601ac142be37ce2ead437559'}, ...</td>\n",
       "      <td>test brand @1612366146051</td>\n",
       "      <td>0.0</td>\n",
       "      <td>TEST BRANDCODE @1612366146051</td>\n",
       "    </tr>\n",
       "    <tr>\n",
       "      <th>4</th>\n",
       "      <td>{'$oid': '601ac142be37ce2ead43755e'}</td>\n",
       "      <td>511111319917</td>\n",
       "      <td>Candy &amp; Sweets</td>\n",
       "      <td>CANDY_AND_SWEETS</td>\n",
       "      <td>{'$id': {'$oid': '5332fa12e4b03c9a25efd1e7'}, ...</td>\n",
       "      <td>test brand @1612366146827</td>\n",
       "      <td>0.0</td>\n",
       "      <td>TEST BRANDCODE @1612366146827</td>\n",
       "    </tr>\n",
       "  </tbody>\n",
       "</table>\n",
       "</div>"
      ],
      "text/plain": [
       "                                    _id       barcode        category  \\\n",
       "0  {'$oid': '601ac115be37ce2ead437551'}  511111019862          Baking   \n",
       "1  {'$oid': '601c5460be37ce2ead43755f'}  511111519928       Beverages   \n",
       "2  {'$oid': '601ac142be37ce2ead43755d'}  511111819905          Baking   \n",
       "3  {'$oid': '601ac142be37ce2ead43755a'}  511111519874          Baking   \n",
       "4  {'$oid': '601ac142be37ce2ead43755e'}  511111319917  Candy & Sweets   \n",
       "\n",
       "       categoryCode                                                cpg  \\\n",
       "0            BAKING  {'$id': {'$oid': '601ac114be37ce2ead437550'}, ...   \n",
       "1         BEVERAGES  {'$id': {'$oid': '5332f5fbe4b03c9a25efd0ba'}, ...   \n",
       "2            BAKING  {'$id': {'$oid': '601ac142be37ce2ead437559'}, ...   \n",
       "3            BAKING  {'$id': {'$oid': '601ac142be37ce2ead437559'}, ...   \n",
       "4  CANDY_AND_SWEETS  {'$id': {'$oid': '5332fa12e4b03c9a25efd1e7'}, ...   \n",
       "\n",
       "                        name  topBrand                      brandCode  \n",
       "0  test brand @1612366101024       0.0                            NaN  \n",
       "1                  Starbucks       0.0                      STARBUCKS  \n",
       "2  test brand @1612366146176       0.0  TEST BRANDCODE @1612366146176  \n",
       "3  test brand @1612366146051       0.0  TEST BRANDCODE @1612366146051  \n",
       "4  test brand @1612366146827       0.0  TEST BRANDCODE @1612366146827  "
      ]
     },
     "execution_count": 26,
     "metadata": {},
     "output_type": "execute_result"
    }
   ],
   "source": [
    "brands.head()"
   ]
  },
  {
   "cell_type": "code",
   "execution_count": 27,
   "metadata": {
    "colab": {
     "base_uri": "https://localhost:8080/"
    },
    "id": "yskzuKe3jqki",
    "outputId": "d0e6110a-aa7f-4f1a-ba2d-04a6eb809667"
   },
   "outputs": [
    {
     "data": {
      "text/plain": [
       "{'$id', '$ref'}"
      ]
     },
     "execution_count": 27,
     "metadata": {},
     "output_type": "execute_result"
    }
   ],
   "source": [
    "set().union(*(d.keys() for d in brands['cpg']))"
   ]
  },
  {
   "cell_type": "markdown",
   "metadata": {
    "id": "8RsIyWx5BF8G"
   },
   "source": [
    "We need to explode the cpg fields as there is more than one element in the dictionary."
   ]
  },
  {
   "cell_type": "code",
   "execution_count": 28,
   "metadata": {
    "id": "il5IJUazAnIo"
   },
   "outputs": [],
   "source": [
    "brands_norm = pd.json_normalize(brands['cpg'])\n",
    "brands_norm = brands_norm.add_prefix('cpg.')"
   ]
  },
  {
   "cell_type": "code",
   "execution_count": 29,
   "metadata": {
    "colab": {
     "base_uri": "https://localhost:8080/",
     "height": 402
    },
    "id": "Ox81APorAsML",
    "outputId": "38f8e20d-dd27-40e5-ef1c-aaf86f65912a"
   },
   "outputs": [
    {
     "data": {
      "text/html": [
       "<div>\n",
       "<style scoped>\n",
       "    .dataframe tbody tr th:only-of-type {\n",
       "        vertical-align: middle;\n",
       "    }\n",
       "\n",
       "    .dataframe tbody tr th {\n",
       "        vertical-align: top;\n",
       "    }\n",
       "\n",
       "    .dataframe thead th {\n",
       "        text-align: right;\n",
       "    }\n",
       "</style>\n",
       "<table border=\"1\" class=\"dataframe\">\n",
       "  <thead>\n",
       "    <tr style=\"text-align: right;\">\n",
       "      <th></th>\n",
       "      <th>cpg.$ref</th>\n",
       "      <th>cpg.$id.$oid</th>\n",
       "    </tr>\n",
       "  </thead>\n",
       "  <tbody>\n",
       "    <tr>\n",
       "      <th>0</th>\n",
       "      <td>Cogs</td>\n",
       "      <td>601ac114be37ce2ead437550</td>\n",
       "    </tr>\n",
       "    <tr>\n",
       "      <th>1</th>\n",
       "      <td>Cogs</td>\n",
       "      <td>5332f5fbe4b03c9a25efd0ba</td>\n",
       "    </tr>\n",
       "    <tr>\n",
       "      <th>2</th>\n",
       "      <td>Cogs</td>\n",
       "      <td>601ac142be37ce2ead437559</td>\n",
       "    </tr>\n",
       "    <tr>\n",
       "      <th>3</th>\n",
       "      <td>Cogs</td>\n",
       "      <td>601ac142be37ce2ead437559</td>\n",
       "    </tr>\n",
       "    <tr>\n",
       "      <th>4</th>\n",
       "      <td>Cogs</td>\n",
       "      <td>5332fa12e4b03c9a25efd1e7</td>\n",
       "    </tr>\n",
       "    <tr>\n",
       "      <th>...</th>\n",
       "      <td>...</td>\n",
       "      <td>...</td>\n",
       "    </tr>\n",
       "    <tr>\n",
       "      <th>1162</th>\n",
       "      <td>Cogs</td>\n",
       "      <td>5f77274dbe37ce6b592e90bf</td>\n",
       "    </tr>\n",
       "    <tr>\n",
       "      <th>1163</th>\n",
       "      <td>Cogs</td>\n",
       "      <td>53e10d6368abd3c7065097cc</td>\n",
       "    </tr>\n",
       "    <tr>\n",
       "      <th>1164</th>\n",
       "      <td>Cogs</td>\n",
       "      <td>5332fa12e4b03c9a25efd1e7</td>\n",
       "    </tr>\n",
       "    <tr>\n",
       "      <th>1165</th>\n",
       "      <td>Cogs</td>\n",
       "      <td>5332f5f6e4b03c9a25efd0b4</td>\n",
       "    </tr>\n",
       "    <tr>\n",
       "      <th>1166</th>\n",
       "      <td>Cogs</td>\n",
       "      <td>6026d757be37ce6369301467</td>\n",
       "    </tr>\n",
       "  </tbody>\n",
       "</table>\n",
       "<p>1167 rows × 2 columns</p>\n",
       "</div>"
      ],
      "text/plain": [
       "     cpg.$ref              cpg.$id.$oid\n",
       "0        Cogs  601ac114be37ce2ead437550\n",
       "1        Cogs  5332f5fbe4b03c9a25efd0ba\n",
       "2        Cogs  601ac142be37ce2ead437559\n",
       "3        Cogs  601ac142be37ce2ead437559\n",
       "4        Cogs  5332fa12e4b03c9a25efd1e7\n",
       "...       ...                       ...\n",
       "1162     Cogs  5f77274dbe37ce6b592e90bf\n",
       "1163     Cogs  53e10d6368abd3c7065097cc\n",
       "1164     Cogs  5332fa12e4b03c9a25efd1e7\n",
       "1165     Cogs  5332f5f6e4b03c9a25efd0b4\n",
       "1166     Cogs  6026d757be37ce6369301467\n",
       "\n",
       "[1167 rows x 2 columns]"
      ]
     },
     "execution_count": 29,
     "metadata": {},
     "output_type": "execute_result"
    }
   ],
   "source": [
    "brands_norm"
   ]
  },
  {
   "cell_type": "code",
   "execution_count": 30,
   "metadata": {
    "id": "7AVHPv2_A-PL"
   },
   "outputs": [],
   "source": [
    "brands_final = pd.merge(brands, brands_norm, left_index=True, right_index=True, how='outer')"
   ]
  },
  {
   "cell_type": "code",
   "execution_count": 31,
   "metadata": {
    "colab": {
     "base_uri": "https://localhost:8080/"
    },
    "id": "w0oXo8tBBM6a",
    "outputId": "e8e42ea0-17c2-4a56-afe3-76945c40de9c"
   },
   "outputs": [
    {
     "data": {
      "text/plain": [
       "(1167, 10)"
      ]
     },
     "execution_count": 31,
     "metadata": {},
     "output_type": "execute_result"
    }
   ],
   "source": [
    "brands_final.shape"
   ]
  },
  {
   "cell_type": "code",
   "execution_count": 32,
   "metadata": {
    "id": "J0BpA6b6BObE"
   },
   "outputs": [],
   "source": [
    "brands_final['_id'] = brands_final['_id'].apply(lambda x: x['$oid'])"
   ]
  },
  {
   "cell_type": "code",
   "execution_count": 33,
   "metadata": {
    "colab": {
     "base_uri": "https://localhost:8080/",
     "height": 383
    },
    "id": "l4TqAuY8N00X",
    "outputId": "030c6f95-3a98-4e9c-b7a5-cd5f2cf6faa9"
   },
   "outputs": [
    {
     "data": {
      "text/html": [
       "<div>\n",
       "<style scoped>\n",
       "    .dataframe tbody tr th:only-of-type {\n",
       "        vertical-align: middle;\n",
       "    }\n",
       "\n",
       "    .dataframe tbody tr th {\n",
       "        vertical-align: top;\n",
       "    }\n",
       "\n",
       "    .dataframe thead th {\n",
       "        text-align: right;\n",
       "    }\n",
       "</style>\n",
       "<table border=\"1\" class=\"dataframe\">\n",
       "  <thead>\n",
       "    <tr style=\"text-align: right;\">\n",
       "      <th></th>\n",
       "      <th>_id</th>\n",
       "      <th>barcode</th>\n",
       "      <th>category</th>\n",
       "      <th>categoryCode</th>\n",
       "      <th>cpg</th>\n",
       "      <th>name</th>\n",
       "      <th>topBrand</th>\n",
       "      <th>brandCode</th>\n",
       "      <th>cpg.$ref</th>\n",
       "      <th>cpg.$id.$oid</th>\n",
       "    </tr>\n",
       "  </thead>\n",
       "  <tbody>\n",
       "    <tr>\n",
       "      <th>0</th>\n",
       "      <td>601ac115be37ce2ead437551</td>\n",
       "      <td>511111019862</td>\n",
       "      <td>Baking</td>\n",
       "      <td>BAKING</td>\n",
       "      <td>{'$id': {'$oid': '601ac114be37ce2ead437550'}, ...</td>\n",
       "      <td>test brand @1612366101024</td>\n",
       "      <td>0.0</td>\n",
       "      <td>NaN</td>\n",
       "      <td>Cogs</td>\n",
       "      <td>601ac114be37ce2ead437550</td>\n",
       "    </tr>\n",
       "    <tr>\n",
       "      <th>1</th>\n",
       "      <td>601c5460be37ce2ead43755f</td>\n",
       "      <td>511111519928</td>\n",
       "      <td>Beverages</td>\n",
       "      <td>BEVERAGES</td>\n",
       "      <td>{'$id': {'$oid': '5332f5fbe4b03c9a25efd0ba'}, ...</td>\n",
       "      <td>Starbucks</td>\n",
       "      <td>0.0</td>\n",
       "      <td>STARBUCKS</td>\n",
       "      <td>Cogs</td>\n",
       "      <td>5332f5fbe4b03c9a25efd0ba</td>\n",
       "    </tr>\n",
       "    <tr>\n",
       "      <th>2</th>\n",
       "      <td>601ac142be37ce2ead43755d</td>\n",
       "      <td>511111819905</td>\n",
       "      <td>Baking</td>\n",
       "      <td>BAKING</td>\n",
       "      <td>{'$id': {'$oid': '601ac142be37ce2ead437559'}, ...</td>\n",
       "      <td>test brand @1612366146176</td>\n",
       "      <td>0.0</td>\n",
       "      <td>TEST BRANDCODE @1612366146176</td>\n",
       "      <td>Cogs</td>\n",
       "      <td>601ac142be37ce2ead437559</td>\n",
       "    </tr>\n",
       "    <tr>\n",
       "      <th>3</th>\n",
       "      <td>601ac142be37ce2ead43755a</td>\n",
       "      <td>511111519874</td>\n",
       "      <td>Baking</td>\n",
       "      <td>BAKING</td>\n",
       "      <td>{'$id': {'$oid': '601ac142be37ce2ead437559'}, ...</td>\n",
       "      <td>test brand @1612366146051</td>\n",
       "      <td>0.0</td>\n",
       "      <td>TEST BRANDCODE @1612366146051</td>\n",
       "      <td>Cogs</td>\n",
       "      <td>601ac142be37ce2ead437559</td>\n",
       "    </tr>\n",
       "    <tr>\n",
       "      <th>4</th>\n",
       "      <td>601ac142be37ce2ead43755e</td>\n",
       "      <td>511111319917</td>\n",
       "      <td>Candy &amp; Sweets</td>\n",
       "      <td>CANDY_AND_SWEETS</td>\n",
       "      <td>{'$id': {'$oid': '5332fa12e4b03c9a25efd1e7'}, ...</td>\n",
       "      <td>test brand @1612366146827</td>\n",
       "      <td>0.0</td>\n",
       "      <td>TEST BRANDCODE @1612366146827</td>\n",
       "      <td>Cogs</td>\n",
       "      <td>5332fa12e4b03c9a25efd1e7</td>\n",
       "    </tr>\n",
       "  </tbody>\n",
       "</table>\n",
       "</div>"
      ],
      "text/plain": [
       "                        _id       barcode        category      categoryCode  \\\n",
       "0  601ac115be37ce2ead437551  511111019862          Baking            BAKING   \n",
       "1  601c5460be37ce2ead43755f  511111519928       Beverages         BEVERAGES   \n",
       "2  601ac142be37ce2ead43755d  511111819905          Baking            BAKING   \n",
       "3  601ac142be37ce2ead43755a  511111519874          Baking            BAKING   \n",
       "4  601ac142be37ce2ead43755e  511111319917  Candy & Sweets  CANDY_AND_SWEETS   \n",
       "\n",
       "                                                 cpg  \\\n",
       "0  {'$id': {'$oid': '601ac114be37ce2ead437550'}, ...   \n",
       "1  {'$id': {'$oid': '5332f5fbe4b03c9a25efd0ba'}, ...   \n",
       "2  {'$id': {'$oid': '601ac142be37ce2ead437559'}, ...   \n",
       "3  {'$id': {'$oid': '601ac142be37ce2ead437559'}, ...   \n",
       "4  {'$id': {'$oid': '5332fa12e4b03c9a25efd1e7'}, ...   \n",
       "\n",
       "                        name  topBrand                      brandCode  \\\n",
       "0  test brand @1612366101024       0.0                            NaN   \n",
       "1                  Starbucks       0.0                      STARBUCKS   \n",
       "2  test brand @1612366146176       0.0  TEST BRANDCODE @1612366146176   \n",
       "3  test brand @1612366146051       0.0  TEST BRANDCODE @1612366146051   \n",
       "4  test brand @1612366146827       0.0  TEST BRANDCODE @1612366146827   \n",
       "\n",
       "  cpg.$ref              cpg.$id.$oid  \n",
       "0     Cogs  601ac114be37ce2ead437550  \n",
       "1     Cogs  5332f5fbe4b03c9a25efd0ba  \n",
       "2     Cogs  601ac142be37ce2ead437559  \n",
       "3     Cogs  601ac142be37ce2ead437559  \n",
       "4     Cogs  5332fa12e4b03c9a25efd1e7  "
      ]
     },
     "execution_count": 33,
     "metadata": {},
     "output_type": "execute_result"
    }
   ],
   "source": [
    "brands_final.head()"
   ]
  },
  {
   "cell_type": "markdown",
   "metadata": {
    "id": "vVDuflEL9sS_"
   },
   "source": [
    "## Second: Write a query that directly answers a predetermined question from a business stakeholder"
   ]
  },
  {
   "cell_type": "markdown",
   "metadata": {
    "id": "V8-GDdt990TU"
   },
   "source": [
    "I am using SQLite database through [SQL Alchemy](https://docs.sqlalchemy.org/en/14/dialects/sqlite.html) python to implement the SQL database for the queries."
   ]
  },
  {
   "cell_type": "code",
   "execution_count": 34,
   "metadata": {
    "id": "sJNMJooWEy70"
   },
   "outputs": [],
   "source": [
    "engine = create_engine('sqlite://', echo=False)"
   ]
  },
  {
   "cell_type": "code",
   "execution_count": 35,
   "metadata": {
    "id": "ggQ2gTVCQ45J"
   },
   "outputs": [],
   "source": [
    "users.drop_duplicates(subset=['_id']).to_sql('users',con=engine)"
   ]
  },
  {
   "cell_type": "code",
   "execution_count": 36,
   "metadata": {
    "id": "5nvXNiRGDnXQ"
   },
   "outputs": [
    {
     "name": "stderr",
     "output_type": "stream",
     "text": [
      "C:\\Users\\pares\\AppData\\Local\\Temp/ipykernel_28360/2797878528.py:1: FutureWarning: The default value of regex will change from True to False in a future version. In addition, single character regular expressions will *not* be treated as literal strings when regex=True.\n",
      "  receipts_final.columns = receipts_final.columns.str.replace(\".\", \"_\")\n"
     ]
    }
   ],
   "source": [
    "receipts_final.columns = receipts_final.columns.str.replace(\".\", \"_\")"
   ]
  },
  {
   "cell_type": "code",
   "execution_count": 37,
   "metadata": {
    "id": "IRic-oJtZaXL"
   },
   "outputs": [],
   "source": [
    "receipts_final.drop(columns=['rewardsReceiptItemList'],axis=1).to_sql('receipts',con=engine)"
   ]
  },
  {
   "cell_type": "code",
   "execution_count": 38,
   "metadata": {
    "id": "acuNTrrn84JU"
   },
   "outputs": [],
   "source": [
    "brands_final.drop_duplicates(subset=['brandCode']).drop(columns=['cpg'],axis=1).to_sql('brands',con=engine)"
   ]
  },
  {
   "cell_type": "markdown",
   "metadata": {
    "id": "-R5rxBED9egC"
   },
   "source": [
    "Which brand has the most spend among users who were created within the past 6 months?"
   ]
  },
  {
   "cell_type": "code",
   "execution_count": 39,
   "metadata": {
    "colab": {
     "base_uri": "https://localhost:8080/"
    },
    "id": "O5TZ7bJ1OiG5",
    "outputId": "47e1edec-f68c-49ac-e638-89179e955e06"
   },
   "outputs": [
    {
     "data": {
      "text/plain": [
       "[]"
      ]
     },
     "execution_count": 39,
     "metadata": {},
     "output_type": "execute_result"
    }
   ],
   "source": [
    "engine.execute(\"SELECT * from (SELECT r.rewardsReceiptItemList_brandCode,SUM(r.totalSpent) as summedTotalSpent from receipts r where r.userId in (SELECT _id from users u where u.createdDate > (SELECT strftime('%Y-%m-%d %H:%M:%S', 'now','-6 month'))) group by r.rewardsReceiptItemList_brandCode) where rewardsReceiptItemList_brandCode is not NULL order by summedTotalSpent DESC LIMIT 1;\").fetchall()"
   ]
  },
  {
   "cell_type": "markdown",
   "metadata": {
    "id": "rkXRH7O3CqW8"
   },
   "source": [
    "## Third: Evaluate Data Quality Issues in the Data Provided"
   ]
  },
  {
   "cell_type": "markdown",
   "metadata": {
    "id": "55wM2y1eMvIy"
   },
   "source": [
    "To find data quality issues I decided to look into the mapping between the brands data and receipts data using brandCode."
   ]
  },
  {
   "cell_type": "code",
   "execution_count": 47,
   "metadata": {
    "colab": {
     "base_uri": "https://localhost:8080/"
    },
    "id": "IpsteTUYY1Jf",
    "outputId": "fb79cb38-50bc-43ac-8e09-f52618e41cdb"
   },
   "outputs": [
    {
     "data": {
      "text/plain": [
       "227"
      ]
     },
     "execution_count": 47,
     "metadata": {},
     "output_type": "execute_result"
    }
   ],
   "source": [
    "len(set(receipts_final.dropna(subset=['rewardsReceiptItemList_brandCode'])['rewardsReceiptItemList_brandCode']))"
   ]
  },
  {
   "cell_type": "code",
   "execution_count": 41,
   "metadata": {
    "colab": {
     "base_uri": "https://localhost:8080/"
    },
    "id": "QwahHehwNQ7o",
    "outputId": "ed3bbe0e-5e23-4f83-a32a-32c7322fd7b8"
   },
   "outputs": [
    {
     "data": {
      "text/plain": [
       "897"
      ]
     },
     "execution_count": 41,
     "metadata": {},
     "output_type": "execute_result"
    }
   ],
   "source": [
    "len(set(brands_final.dropna(subset=['brandCode'])['brandCode']))"
   ]
  },
  {
   "cell_type": "markdown",
   "metadata": {
    "id": "eypRJsekNnns"
   },
   "source": [
    "As we see there are a lot more unique brand codes in the brands dataset compared to the receipts. Now we compare the two and see if all the receipts with a brand code can be mapped to the brands table."
   ]
  },
  {
   "cell_type": "code",
   "execution_count": 42,
   "metadata": {
    "colab": {
     "base_uri": "https://localhost:8080/"
    },
    "id": "42gAmsv6Z540",
    "outputId": "abff34e0-cd3e-4a58-d6e5-477f614774b9"
   },
   "outputs": [
    {
     "name": "stderr",
     "output_type": "stream",
     "text": [
      "C:\\Users\\pares\\AppData\\Local\\Temp/ipykernel_28360/2750043545.py:2: SettingWithCopyWarning: \n",
      "A value is trying to be set on a copy of a slice from a DataFrame.\n",
      "Try using .loc[row_indexer,col_indexer] = value instead\n",
      "\n",
      "See the caveats in the documentation: https://pandas.pydata.org/pandas-docs/stable/user_guide/indexing.html#returning-a-view-versus-a-copy\n",
      "  receipts_dropped['rewardsReceiptItemList_brandCode'] = receipts_dropped['rewardsReceiptItemList_brandCode'].apply(lambda x:str(x))\n"
     ]
    }
   ],
   "source": [
    "receipts_dropped = receipts_final.dropna(subset=['rewardsReceiptItemList_brandCode'])\n",
    "receipts_dropped['rewardsReceiptItemList_brandCode'] = receipts_dropped['rewardsReceiptItemList_brandCode'].apply(lambda x:str(x))"
   ]
  },
  {
   "cell_type": "code",
   "execution_count": 43,
   "metadata": {
    "id": "fgS2rYfMaQxZ"
   },
   "outputs": [],
   "source": [
    "brands_final['barcode'] = brands_final['barcode'].apply(lambda x: str(x))\n",
    "brands_final['brandCode'] = brands_final['brandCode'].apply(lambda x: str(x))"
   ]
  },
  {
   "cell_type": "code",
   "execution_count": 44,
   "metadata": {
    "id": "ZUr9Gw_6ZdTR"
   },
   "outputs": [],
   "source": [
    "receipts_with_brands = pd.merge(receipts_final,brands_final,left_on='rewardsReceiptItemList_brandCode',right_on='brandCode')"
   ]
  },
  {
   "cell_type": "code",
   "execution_count": 45,
   "metadata": {
    "colab": {
     "base_uri": "https://localhost:8080/"
    },
    "id": "-8czybba4KzW",
    "outputId": "59dad1c3-471c-422b-8fca-c355d1d44e6f"
   },
   "outputs": [
    {
     "data": {
      "text/plain": [
       "{'7UP',\n",
       " 'ADVIL',\n",
       " 'AMERICAN BEAUTY',\n",
       " 'ARROWHEAD',\n",
       " 'AZTECA',\n",
       " 'BANZA',\n",
       " 'BEAR CREEK COUNTRY KITCHENS',\n",
       " 'BEN AND JERRYS',\n",
       " 'BETTY CROCKER',\n",
       " 'BIC',\n",
       " 'BIGELOW',\n",
       " 'BLUE DIAMOND',\n",
       " \"BOAR'S HEAD\",\n",
       " 'BORDEN',\n",
       " 'BOTA BOX',\n",
       " 'BRAND',\n",
       " \"BRASWELL'S\",\n",
       " 'BUNNY',\n",
       " \"BUSH'S BEST\",\n",
       " 'C&H',\n",
       " 'CADBURY',\n",
       " 'CAL-ORGANIC FARMS',\n",
       " 'CALIFIA FARMS',\n",
       " \"CAMPBELL'S\",\n",
       " 'CARAMELLO',\n",
       " 'CHEERIOS',\n",
       " 'CHEESE',\n",
       " 'CHEEZ-IT',\n",
       " 'CHEX',\n",
       " 'CHICKEN OF THE SEA',\n",
       " 'CHIQUITA',\n",
       " 'CINNAMON TOAST CRUNCH',\n",
       " 'COKE',\n",
       " 'COLEMAN NATURAL',\n",
       " \"CONNIE'S PIZZA\",\n",
       " 'CREST 3D WHITE',\n",
       " 'CRISPIX',\n",
       " 'DANNON',\n",
       " 'DARE',\n",
       " 'DELI',\n",
       " 'DIET COKE',\n",
       " 'DIGIORNO',\n",
       " 'DOLE',\n",
       " 'DR PEPPER',\n",
       " 'EDWARDS',\n",
       " \"EGGLAND'S BEST\",\n",
       " 'EGGO',\n",
       " 'EL MONTEREY',\n",
       " 'ENERGIZER MAX',\n",
       " 'ESSENTIAL EVERYDAY',\n",
       " 'FAGE',\n",
       " \"FAMOUS DAVE'S\",\n",
       " \"FLORIDA'S NATURAL\",\n",
       " 'FOLGERS',\n",
       " 'FORTUNE YAKISOBA',\n",
       " 'FRANZ',\n",
       " \"FRENCH'S\",\n",
       " 'FRESH EXPRESS',\n",
       " 'FRESH STEP',\n",
       " 'FRONTERA',\n",
       " 'GALLO FAMILY VINEYARDS',\n",
       " 'GENERAL MILLS',\n",
       " 'GERBER',\n",
       " 'GERM-X',\n",
       " 'GREEN GIANT',\n",
       " 'GRIMMWAY FARMS',\n",
       " 'HANOVER',\n",
       " 'HARVEST SNAPS',\n",
       " 'HATCH FARMS',\n",
       " 'HAWAIIAN',\n",
       " \"HEMPLER'S\",\n",
       " 'HERITAGE FARM',\n",
       " \"HERSHEY'S KISSES\",\n",
       " 'HEWLETT PACKARD',\n",
       " 'HIDDEN VALLEY',\n",
       " 'HILLSHIRE FARM',\n",
       " 'HONEY BUNCHES OF OATS',\n",
       " 'HORMEL',\n",
       " 'HY-VEE',\n",
       " 'HY-VEE SELECT',\n",
       " \"JACK DANIEL'S READY TO EAT\",\n",
       " \"JACK LINK'S\",\n",
       " 'JELLY BELLY',\n",
       " 'JENNIE-O',\n",
       " 'JIMMY DEAN',\n",
       " 'JOHN SOULES FOODS',\n",
       " 'JOHNSONVILLE',\n",
       " 'JUST BARE',\n",
       " 'KARO',\n",
       " 'KASHI',\n",
       " \"KELLOGG'S\",\n",
       " 'KEMPS',\n",
       " 'KERR',\n",
       " 'KERRYGOLD',\n",
       " 'KIKKOMAN',\n",
       " 'KING ARTHUR FLOUR',\n",
       " 'KIT KAT',\n",
       " 'KITCHEN BASICS',\n",
       " 'KLARBRUNN',\n",
       " 'KRAFT EASY CHEESE',\n",
       " 'KRAZY GLUE',\n",
       " 'KROGER',\n",
       " 'KRUSTEAZ',\n",
       " 'LA BANDERITA',\n",
       " \"LAURA'S LEAN BEEF\",\n",
       " 'LIGHT & FIT',\n",
       " 'LIGHT & FIT GREEK',\n",
       " 'LINDSAY',\n",
       " 'LINDT',\n",
       " 'LIPTON',\n",
       " 'LITEHOUSE',\n",
       " 'LUNDBERG FAMILY FARMS',\n",
       " \"MARIE CALLENDER'S\",\n",
       " \"MARIE'S\",\n",
       " \"MARTINELLI'S\",\n",
       " 'MCCORMICK',\n",
       " 'MCCORMICK GRILL MATES',\n",
       " \"MERKT'S\",\n",
       " 'MISSION',\n",
       " 'MORTON',\n",
       " \"MRS. CUBBISON'S\",\n",
       " \"MRS. RENFRO'S\",\n",
       " 'NABISCO',\n",
       " \"NATURE'S PATH ORGANIC\",\n",
       " 'NESTLE',\n",
       " 'NUTELLA',\n",
       " 'NUTRI-GRAIN',\n",
       " 'OLD EL PASO',\n",
       " 'ORAL-B GLIDE',\n",
       " 'ORBIT',\n",
       " 'OREO',\n",
       " 'ORGANIC ROOT STIMULATOR',\n",
       " 'ORGANICVILLE',\n",
       " 'OVALTINE',\n",
       " 'PEARLS',\n",
       " 'PILLSBURY',\n",
       " 'PLAYTEX',\n",
       " 'POMPEIAN',\n",
       " 'POWER CRUNCH',\n",
       " 'PRINGLES',\n",
       " 'PRIVATE SELECTION',\n",
       " 'PROGRESSO',\n",
       " 'PURINA ONE',\n",
       " 'R.W. KNUDSEN',\n",
       " 'RAGU',\n",
       " \"REESE'S\",\n",
       " 'RENUZIT',\n",
       " 'RITZ',\n",
       " 'RITZ TOASTED CHIPS',\n",
       " 'ROSARITA',\n",
       " 'SABRA',\n",
       " \"SCHWEBEL'S\",\n",
       " 'SHOPRITE',\n",
       " 'SIGNATURE',\n",
       " 'SIGNATURE KITCHEN',\n",
       " 'SIMPLE TRUTH',\n",
       " 'SIMPLE TRUTH ORGANIC',\n",
       " 'SIMPLY POTATOES',\n",
       " 'SKITTLES',\n",
       " 'SMITHFIELD',\n",
       " 'SO DELICIOUS',\n",
       " 'SPARKLING ICE',\n",
       " 'SPECIAL K',\n",
       " 'STARKIST',\n",
       " \"STOUFFER'S\",\n",
       " \"STOUFFER'S CLASSICS\",\n",
       " 'TAYLOR FARMS',\n",
       " 'TEMPTATIONS',\n",
       " 'THAI KITCHEN',\n",
       " \"THAT'S SMART!\",\n",
       " 'THOMAS',\n",
       " 'THOMAS ENGLISH MUFFINS',\n",
       " \"THOMAS'\",\n",
       " 'TIC TAC',\n",
       " 'TILLAMOOK',\n",
       " 'TOLL HOUSE',\n",
       " 'TOP FLIGHT',\n",
       " 'TROLLI',\n",
       " 'TYSON',\n",
       " \"VAN DE KAMP'S\",\n",
       " 'VITAL FARMS ALFRESCO EGGS',\n",
       " \"WELCH'S\",\n",
       " 'WINGSTOP',\n",
       " 'WISHBONE',\n",
       " 'WONDERFUL',\n",
       " 'ZESTA'}"
      ]
     },
     "execution_count": 45,
     "metadata": {},
     "output_type": "execute_result"
    }
   ],
   "source": [
    "set(receipts_dropped[~(receipts_dropped['rewardsReceiptItemList_brandCode'].isin(brands['brandCode']))]['rewardsReceiptItemList_brandCode'])"
   ]
  },
  {
   "cell_type": "markdown",
   "metadata": {
    "id": "UHN6P34RPv74"
   },
   "source": [
    "Above are all the receipts with a brand code but the codes are missing in the brands table. This would be an issue as a lot of data will be missing when we query between the two tables."
   ]
  }
 ],
 "metadata": {
  "colab": {
   "collapsed_sections": [],
   "name": "fetch_rewards.ipynb",
   "provenance": [],
   "toc_visible": true
  },
  "kernelspec": {
   "display_name": "Python 3 (ipykernel)",
   "language": "python",
   "name": "python3"
  },
  "language_info": {
   "codemirror_mode": {
    "name": "ipython",
    "version": 3
   },
   "file_extension": ".py",
   "mimetype": "text/x-python",
   "name": "python",
   "nbconvert_exporter": "python",
   "pygments_lexer": "ipython3",
   "version": "3.9.7"
  }
 },
 "nbformat": 4,
 "nbformat_minor": 1
}
